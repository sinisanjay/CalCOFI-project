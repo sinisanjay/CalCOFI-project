{
  "nbformat": 4,
  "nbformat_minor": 0,
  "metadata": {
    "colab": {
      "provenance": []
    },
    "kernelspec": {
      "name": "python3",
      "display_name": "Python 3"
    },
    "language_info": {
      "name": "python"
    }
  },
  "cells": [
    {
      "cell_type": "code",
      "execution_count": 1,
      "metadata": {
        "id": "16WRPvV7hBQa"
      },
      "outputs": [],
      "source": [
        "import sklearn\n",
        "import numpy as np\n",
        "import pandas as pd\n",
        "import matplotlib as mpl\n",
        "from matplotlib import pyplot as plt"
      ]
    },
    {
      "cell_type": "code",
      "source": [
        "np.random.seed(42)"
      ],
      "metadata": {
        "id": "lnXQdND3hKlz"
      },
      "execution_count": 3,
      "outputs": []
    },
    {
      "cell_type": "markdown",
      "source": [
        "#Load Dataset"
      ],
      "metadata": {
        "id": "jov0ZD_H35lt"
      }
    },
    {
      "cell_type": "code",
      "source": [
        "#import dataset\n",
        "#file_dir = 'D:\\Sini-Project\\Datasets\\CalCOFI'\n",
        "file1='bottle.csv'\n",
        "file2 = 'cast.csv'\n",
        "#file3 = 'small_bottle.csv'\n",
        "\n",
        "dataset = pd.read_csv(file1)\n",
        "print(dataset.shape)\n",
        "print(dataset.columns)"
      ],
      "metadata": {
        "colab": {
          "base_uri": "https://localhost:8080/"
        },
        "id": "lNh8EafdhO8q",
        "outputId": "1bf65957-1604-4e77-8c94-773b14f9f660"
      },
      "execution_count": 6,
      "outputs": [
        {
          "output_type": "stream",
          "name": "stderr",
          "text": [
            "<ipython-input-6-b3dc70fcecf6>:7: DtypeWarning: Columns (47,73) have mixed types. Specify dtype option on import or set low_memory=False.\n",
            "  dataset = pd.read_csv(file1)\n"
          ]
        },
        {
          "output_type": "stream",
          "name": "stdout",
          "text": [
            "(864863, 74)\n",
            "Index(['Cst_Cnt', 'Btl_Cnt', 'Sta_ID', 'Depth_ID', 'Depthm', 'T_degC',\n",
            "       'Salnty', 'O2ml_L', 'STheta', 'O2Sat', 'Oxy_µmol/Kg', 'BtlNum',\n",
            "       'RecInd', 'T_prec', 'T_qual', 'S_prec', 'S_qual', 'P_qual', 'O_qual',\n",
            "       'SThtaq', 'O2Satq', 'ChlorA', 'Chlqua', 'Phaeop', 'Phaqua', 'PO4uM',\n",
            "       'PO4q', 'SiO3uM', 'SiO3qu', 'NO2uM', 'NO2q', 'NO3uM', 'NO3q', 'NH3uM',\n",
            "       'NH3q', 'C14As1', 'C14A1p', 'C14A1q', 'C14As2', 'C14A2p', 'C14A2q',\n",
            "       'DarkAs', 'DarkAp', 'DarkAq', 'MeanAs', 'MeanAp', 'MeanAq', 'IncTim',\n",
            "       'LightP', 'R_Depth', 'R_TEMP', 'R_POTEMP', 'R_SALINITY', 'R_SIGMA',\n",
            "       'R_SVA', 'R_DYNHT', 'R_O2', 'R_O2Sat', 'R_SIO3', 'R_PO4', 'R_NO3',\n",
            "       'R_NO2', 'R_NH4', 'R_CHLA', 'R_PHAEO', 'R_PRES', 'R_SAMP', 'DIC1',\n",
            "       'DIC2', 'TA1', 'TA2', 'pH2', 'pH1', 'DIC Quality Comment'],\n",
            "      dtype='object')\n"
          ]
        }
      ]
    },
    {
      "cell_type": "code",
      "source": [
        "cst_cnt_list = dataset['Cst_Cnt'].unique()\n",
        "print(cst_cnt_list, len(cst_cnt_list))"
      ],
      "metadata": {
        "colab": {
          "base_uri": "https://localhost:8080/"
        },
        "id": "hfscYHSR9uTH",
        "outputId": "b8c3f7d7-165b-4cf6-aa6a-e3a0f0cd4081"
      },
      "execution_count": null,
      "outputs": [
        {
          "output_type": "stream",
          "name": "stdout",
          "text": [
            "[    1     2     3 ... 32131 32132 32133] 32133\n"
          ]
        }
      ]
    },
    {
      "cell_type": "code",
      "source": [
        "print(dataset.head())"
      ],
      "metadata": {
        "colab": {
          "base_uri": "https://localhost:8080/"
        },
        "id": "Z4YyRTjahWsK",
        "outputId": "a237ae68-24ae-494d-dc91-3f7cee626f2c"
      },
      "execution_count": 12,
      "outputs": [
        {
          "output_type": "stream",
          "name": "stdout",
          "text": [
            "   Cst_Cnt  Btl_Cnt       Sta_ID                                Depth_ID  \\\n",
            "0        1        1  054.0 056.0  19-4903CR-HY-060-0930-05400560-0000A-3   \n",
            "1        1        2  054.0 056.0  19-4903CR-HY-060-0930-05400560-0008A-3   \n",
            "2        1        3  054.0 056.0  19-4903CR-HY-060-0930-05400560-0010A-7   \n",
            "3        1        4  054.0 056.0  19-4903CR-HY-060-0930-05400560-0019A-3   \n",
            "4        1        5  054.0 056.0  19-4903CR-HY-060-0930-05400560-0020A-7   \n",
            "\n",
            "   Depthm  T_degC  Salnty  O2ml_L  STheta  O2Sat  ...  R_PHAEO  R_PRES  \\\n",
            "0       0   10.50  33.440     NaN  25.649    NaN  ...      NaN       0   \n",
            "1       8   10.46  33.440     NaN  25.656    NaN  ...      NaN       8   \n",
            "2      10   10.46  33.437     NaN  25.654    NaN  ...      NaN      10   \n",
            "3      19   10.45  33.420     NaN  25.643    NaN  ...      NaN      19   \n",
            "4      20   10.45  33.421     NaN  25.643    NaN  ...      NaN      20   \n",
            "\n",
            "   R_SAMP  DIC1  DIC2  TA1  TA2  pH2  pH1  DIC Quality Comment  \n",
            "0     NaN   NaN   NaN  NaN  NaN  NaN  NaN                  NaN  \n",
            "1     NaN   NaN   NaN  NaN  NaN  NaN  NaN                  NaN  \n",
            "2     NaN   NaN   NaN  NaN  NaN  NaN  NaN                  NaN  \n",
            "3     NaN   NaN   NaN  NaN  NaN  NaN  NaN                  NaN  \n",
            "4     NaN   NaN   NaN  NaN  NaN  NaN  NaN                  NaN  \n",
            "\n",
            "[5 rows x 74 columns]\n"
          ]
        }
      ]
    },
    {
      "cell_type": "code",
      "source": [
        "dataset.info()"
      ],
      "metadata": {
        "colab": {
          "base_uri": "https://localhost:8080/"
        },
        "id": "SMR3VWb2hanj",
        "outputId": "517b1636-a84b-41cd-8119-ad187a41df08"
      },
      "execution_count": 13,
      "outputs": [
        {
          "output_type": "stream",
          "name": "stdout",
          "text": [
            "<class 'pandas.core.frame.DataFrame'>\n",
            "RangeIndex: 864863 entries, 0 to 864862\n",
            "Data columns (total 74 columns):\n",
            " #   Column               Non-Null Count   Dtype  \n",
            "---  ------               --------------   -----  \n",
            " 0   Cst_Cnt              864863 non-null  int64  \n",
            " 1   Btl_Cnt              864863 non-null  int64  \n",
            " 2   Sta_ID               864863 non-null  object \n",
            " 3   Depth_ID             864863 non-null  object \n",
            " 4   Depthm               864863 non-null  int64  \n",
            " 5   T_degC               853900 non-null  float64\n",
            " 6   Salnty               817509 non-null  float64\n",
            " 7   O2ml_L               696201 non-null  float64\n",
            " 8   STheta               812174 non-null  float64\n",
            " 9   O2Sat                661274 non-null  float64\n",
            " 10  Oxy_µmol/Kg          661268 non-null  float64\n",
            " 11  BtlNum               118667 non-null  float64\n",
            " 12  RecInd               864863 non-null  int64  \n",
            " 13  T_prec               853900 non-null  float64\n",
            " 14  T_qual               23127 non-null   float64\n",
            " 15  S_prec               817509 non-null  float64\n",
            " 16  S_qual               74914 non-null   float64\n",
            " 17  P_qual               673755 non-null  float64\n",
            " 18  O_qual               184676 non-null  float64\n",
            " 19  SThtaq               65823 non-null   float64\n",
            " 20  O2Satq               217797 non-null  float64\n",
            " 21  ChlorA               225272 non-null  float64\n",
            " 22  Chlqua               639166 non-null  float64\n",
            " 23  Phaeop               225271 non-null  float64\n",
            " 24  Phaqua               639170 non-null  float64\n",
            " 25  PO4uM                413317 non-null  float64\n",
            " 26  PO4q                 451786 non-null  float64\n",
            " 27  SiO3uM               354091 non-null  float64\n",
            " 28  SiO3qu               510866 non-null  float64\n",
            " 29  NO2uM                337576 non-null  float64\n",
            " 30  NO2q                 529474 non-null  float64\n",
            " 31  NO3uM                337403 non-null  float64\n",
            " 32  NO3q                 529933 non-null  float64\n",
            " 33  NH3uM                64962 non-null   float64\n",
            " 34  NH3q                 808299 non-null  float64\n",
            " 35  C14As1               14432 non-null   float64\n",
            " 36  C14A1p               12760 non-null   float64\n",
            " 37  C14A1q               848605 non-null  float64\n",
            " 38  C14As2               14414 non-null   float64\n",
            " 39  C14A2p               12742 non-null   float64\n",
            " 40  C14A2q               848623 non-null  float64\n",
            " 41  DarkAs               22649 non-null   float64\n",
            " 42  DarkAp               20457 non-null   float64\n",
            " 43  DarkAq               840440 non-null  float64\n",
            " 44  MeanAs               22650 non-null   float64\n",
            " 45  MeanAp               20457 non-null   float64\n",
            " 46  MeanAq               840439 non-null  float64\n",
            " 47  IncTim               14437 non-null   object \n",
            " 48  LightP               18651 non-null   float64\n",
            " 49  R_Depth              864863 non-null  float64\n",
            " 50  R_TEMP               853900 non-null  float64\n",
            " 51  R_POTEMP             818816 non-null  float64\n",
            " 52  R_SALINITY           817509 non-null  float64\n",
            " 53  R_SIGMA              812007 non-null  float64\n",
            " 54  R_SVA                812092 non-null  float64\n",
            " 55  R_DYNHT              818206 non-null  float64\n",
            " 56  R_O2                 696201 non-null  float64\n",
            " 57  R_O2Sat              666448 non-null  float64\n",
            " 58  R_SIO3               354099 non-null  float64\n",
            " 59  R_PO4                413325 non-null  float64\n",
            " 60  R_NO3                337411 non-null  float64\n",
            " 61  R_NO2                337584 non-null  float64\n",
            " 62  R_NH4                64982 non-null   float64\n",
            " 63  R_CHLA               225276 non-null  float64\n",
            " 64  R_PHAEO              225275 non-null  float64\n",
            " 65  R_PRES               864863 non-null  int64  \n",
            " 66  R_SAMP               122006 non-null  float64\n",
            " 67  DIC1                 1999 non-null    float64\n",
            " 68  DIC2                 224 non-null     float64\n",
            " 69  TA1                  2084 non-null    float64\n",
            " 70  TA2                  234 non-null     float64\n",
            " 71  pH2                  10 non-null      float64\n",
            " 72  pH1                  84 non-null      float64\n",
            " 73  DIC Quality Comment  55 non-null      object \n",
            "dtypes: float64(65), int64(5), object(4)\n",
            "memory usage: 488.3+ MB\n"
          ]
        }
      ]
    },
    {
      "cell_type": "code",
      "source": [
        "dataset.describe()"
      ],
      "metadata": {
        "colab": {
          "base_uri": "https://localhost:8080/",
          "height": 350
        },
        "id": "iPtgsLDahgHa",
        "outputId": "921c557f-40c7-4c58-bdd4-6ea0784f55a1"
      },
      "execution_count": 14,
      "outputs": [
        {
          "output_type": "execute_result",
          "data": {
            "text/plain": [
              "             Cst_Cnt        Btl_Cnt         Depthm         T_degC  \\\n",
              "count  864863.000000  864863.000000  864863.000000  853900.000000   \n",
              "mean    17138.790958  432432.000000     226.831951      10.799677   \n",
              "std     10240.949817  249664.587269     316.050259       4.243825   \n",
              "min         1.000000       1.000000       0.000000       1.440000   \n",
              "25%      8269.000000  216216.500000      46.000000       7.680000   \n",
              "50%     16848.000000  432432.000000     125.000000      10.060000   \n",
              "75%     26557.000000  648647.500000     300.000000      13.880000   \n",
              "max     34404.000000  864863.000000    5351.000000      31.140000   \n",
              "\n",
              "              Salnty         O2ml_L         STheta          O2Sat  \\\n",
              "count  817509.000000  696201.000000  812174.000000  661274.000000   \n",
              "mean       33.840350       3.392468      25.819394      57.103779   \n",
              "std         0.461843       2.073256       1.167787      37.094137   \n",
              "min        28.431000      -0.010000      20.934000      -0.100000   \n",
              "25%        33.488000       1.360000      24.965000      21.100000   \n",
              "50%        33.863000       3.440000      25.996000      54.400000   \n",
              "75%        34.196900       5.500000      26.646000      97.600000   \n",
              "max        37.034000      11.130000     250.784000     214.100000   \n",
              "\n",
              "         Oxy_µmol/Kg         BtlNum  ...         R_CHLA        R_PHAEO  \\\n",
              "count  661268.000000  118667.000000  ...  225276.000000  225275.000000   \n",
              "mean      148.808694      10.497426  ...       0.450225       0.198599   \n",
              "std        90.187533       6.189688  ...       1.208566       0.376539   \n",
              "min        -0.434900       0.000000  ...      -0.010000      -3.890000   \n",
              "25%        60.915470       5.000000  ...       0.050000       0.050000   \n",
              "50%       151.064150      10.000000  ...       0.160000       0.110000   \n",
              "75%       240.379600      16.000000  ...       0.390000       0.230000   \n",
              "max       485.701800      25.000000  ...      66.110000      65.300000   \n",
              "\n",
              "              R_PRES         R_SAMP         DIC1         DIC2          TA1  \\\n",
              "count  864863.000000  122006.000000  1999.000000   224.000000  2084.000000   \n",
              "mean      228.395694     162.071521  2153.239714  2168.148330  2256.055845   \n",
              "std       319.456731      85.722796   112.995202   154.852332    34.844435   \n",
              "min         0.000000       0.000000  1948.850000  1969.440000  2181.570000   \n",
              "25%        46.000000     200.000000  2028.330000  2008.977500  2230.322500   \n",
              "50%       126.000000     206.000000  2170.640000  2265.885000  2244.325000   \n",
              "75%       302.000000     214.000000  2253.810000  2315.525000  2278.505000   \n",
              "max      5458.000000     424.000000  2367.800000  2364.420000  2434.900000   \n",
              "\n",
              "               TA2        pH2        pH1  \n",
              "count   234.000000  10.000000  84.000000  \n",
              "mean   2278.858803   7.948570   7.910983  \n",
              "std      58.496495   0.021216   0.077666  \n",
              "min    2198.150000   7.923100   7.618300  \n",
              "25%    2229.062500   7.931475   7.898675  \n",
              "50%    2247.505000   7.946650   7.928850  \n",
              "75%    2316.452500   7.963300   7.955100  \n",
              "max    2437.000000   7.988300   8.047700  \n",
              "\n",
              "[8 rows x 70 columns]"
            ],
            "text/html": [
              "\n",
              "  <div id=\"df-19f489d8-1fa5-4507-abf8-8f8736291b85\" class=\"colab-df-container\">\n",
              "    <div>\n",
              "<style scoped>\n",
              "    .dataframe tbody tr th:only-of-type {\n",
              "        vertical-align: middle;\n",
              "    }\n",
              "\n",
              "    .dataframe tbody tr th {\n",
              "        vertical-align: top;\n",
              "    }\n",
              "\n",
              "    .dataframe thead th {\n",
              "        text-align: right;\n",
              "    }\n",
              "</style>\n",
              "<table border=\"1\" class=\"dataframe\">\n",
              "  <thead>\n",
              "    <tr style=\"text-align: right;\">\n",
              "      <th></th>\n",
              "      <th>Cst_Cnt</th>\n",
              "      <th>Btl_Cnt</th>\n",
              "      <th>Depthm</th>\n",
              "      <th>T_degC</th>\n",
              "      <th>Salnty</th>\n",
              "      <th>O2ml_L</th>\n",
              "      <th>STheta</th>\n",
              "      <th>O2Sat</th>\n",
              "      <th>Oxy_µmol/Kg</th>\n",
              "      <th>BtlNum</th>\n",
              "      <th>...</th>\n",
              "      <th>R_CHLA</th>\n",
              "      <th>R_PHAEO</th>\n",
              "      <th>R_PRES</th>\n",
              "      <th>R_SAMP</th>\n",
              "      <th>DIC1</th>\n",
              "      <th>DIC2</th>\n",
              "      <th>TA1</th>\n",
              "      <th>TA2</th>\n",
              "      <th>pH2</th>\n",
              "      <th>pH1</th>\n",
              "    </tr>\n",
              "  </thead>\n",
              "  <tbody>\n",
              "    <tr>\n",
              "      <th>count</th>\n",
              "      <td>864863.000000</td>\n",
              "      <td>864863.000000</td>\n",
              "      <td>864863.000000</td>\n",
              "      <td>853900.000000</td>\n",
              "      <td>817509.000000</td>\n",
              "      <td>696201.000000</td>\n",
              "      <td>812174.000000</td>\n",
              "      <td>661274.000000</td>\n",
              "      <td>661268.000000</td>\n",
              "      <td>118667.000000</td>\n",
              "      <td>...</td>\n",
              "      <td>225276.000000</td>\n",
              "      <td>225275.000000</td>\n",
              "      <td>864863.000000</td>\n",
              "      <td>122006.000000</td>\n",
              "      <td>1999.000000</td>\n",
              "      <td>224.000000</td>\n",
              "      <td>2084.000000</td>\n",
              "      <td>234.000000</td>\n",
              "      <td>10.000000</td>\n",
              "      <td>84.000000</td>\n",
              "    </tr>\n",
              "    <tr>\n",
              "      <th>mean</th>\n",
              "      <td>17138.790958</td>\n",
              "      <td>432432.000000</td>\n",
              "      <td>226.831951</td>\n",
              "      <td>10.799677</td>\n",
              "      <td>33.840350</td>\n",
              "      <td>3.392468</td>\n",
              "      <td>25.819394</td>\n",
              "      <td>57.103779</td>\n",
              "      <td>148.808694</td>\n",
              "      <td>10.497426</td>\n",
              "      <td>...</td>\n",
              "      <td>0.450225</td>\n",
              "      <td>0.198599</td>\n",
              "      <td>228.395694</td>\n",
              "      <td>162.071521</td>\n",
              "      <td>2153.239714</td>\n",
              "      <td>2168.148330</td>\n",
              "      <td>2256.055845</td>\n",
              "      <td>2278.858803</td>\n",
              "      <td>7.948570</td>\n",
              "      <td>7.910983</td>\n",
              "    </tr>\n",
              "    <tr>\n",
              "      <th>std</th>\n",
              "      <td>10240.949817</td>\n",
              "      <td>249664.587269</td>\n",
              "      <td>316.050259</td>\n",
              "      <td>4.243825</td>\n",
              "      <td>0.461843</td>\n",
              "      <td>2.073256</td>\n",
              "      <td>1.167787</td>\n",
              "      <td>37.094137</td>\n",
              "      <td>90.187533</td>\n",
              "      <td>6.189688</td>\n",
              "      <td>...</td>\n",
              "      <td>1.208566</td>\n",
              "      <td>0.376539</td>\n",
              "      <td>319.456731</td>\n",
              "      <td>85.722796</td>\n",
              "      <td>112.995202</td>\n",
              "      <td>154.852332</td>\n",
              "      <td>34.844435</td>\n",
              "      <td>58.496495</td>\n",
              "      <td>0.021216</td>\n",
              "      <td>0.077666</td>\n",
              "    </tr>\n",
              "    <tr>\n",
              "      <th>min</th>\n",
              "      <td>1.000000</td>\n",
              "      <td>1.000000</td>\n",
              "      <td>0.000000</td>\n",
              "      <td>1.440000</td>\n",
              "      <td>28.431000</td>\n",
              "      <td>-0.010000</td>\n",
              "      <td>20.934000</td>\n",
              "      <td>-0.100000</td>\n",
              "      <td>-0.434900</td>\n",
              "      <td>0.000000</td>\n",
              "      <td>...</td>\n",
              "      <td>-0.010000</td>\n",
              "      <td>-3.890000</td>\n",
              "      <td>0.000000</td>\n",
              "      <td>0.000000</td>\n",
              "      <td>1948.850000</td>\n",
              "      <td>1969.440000</td>\n",
              "      <td>2181.570000</td>\n",
              "      <td>2198.150000</td>\n",
              "      <td>7.923100</td>\n",
              "      <td>7.618300</td>\n",
              "    </tr>\n",
              "    <tr>\n",
              "      <th>25%</th>\n",
              "      <td>8269.000000</td>\n",
              "      <td>216216.500000</td>\n",
              "      <td>46.000000</td>\n",
              "      <td>7.680000</td>\n",
              "      <td>33.488000</td>\n",
              "      <td>1.360000</td>\n",
              "      <td>24.965000</td>\n",
              "      <td>21.100000</td>\n",
              "      <td>60.915470</td>\n",
              "      <td>5.000000</td>\n",
              "      <td>...</td>\n",
              "      <td>0.050000</td>\n",
              "      <td>0.050000</td>\n",
              "      <td>46.000000</td>\n",
              "      <td>200.000000</td>\n",
              "      <td>2028.330000</td>\n",
              "      <td>2008.977500</td>\n",
              "      <td>2230.322500</td>\n",
              "      <td>2229.062500</td>\n",
              "      <td>7.931475</td>\n",
              "      <td>7.898675</td>\n",
              "    </tr>\n",
              "    <tr>\n",
              "      <th>50%</th>\n",
              "      <td>16848.000000</td>\n",
              "      <td>432432.000000</td>\n",
              "      <td>125.000000</td>\n",
              "      <td>10.060000</td>\n",
              "      <td>33.863000</td>\n",
              "      <td>3.440000</td>\n",
              "      <td>25.996000</td>\n",
              "      <td>54.400000</td>\n",
              "      <td>151.064150</td>\n",
              "      <td>10.000000</td>\n",
              "      <td>...</td>\n",
              "      <td>0.160000</td>\n",
              "      <td>0.110000</td>\n",
              "      <td>126.000000</td>\n",
              "      <td>206.000000</td>\n",
              "      <td>2170.640000</td>\n",
              "      <td>2265.885000</td>\n",
              "      <td>2244.325000</td>\n",
              "      <td>2247.505000</td>\n",
              "      <td>7.946650</td>\n",
              "      <td>7.928850</td>\n",
              "    </tr>\n",
              "    <tr>\n",
              "      <th>75%</th>\n",
              "      <td>26557.000000</td>\n",
              "      <td>648647.500000</td>\n",
              "      <td>300.000000</td>\n",
              "      <td>13.880000</td>\n",
              "      <td>34.196900</td>\n",
              "      <td>5.500000</td>\n",
              "      <td>26.646000</td>\n",
              "      <td>97.600000</td>\n",
              "      <td>240.379600</td>\n",
              "      <td>16.000000</td>\n",
              "      <td>...</td>\n",
              "      <td>0.390000</td>\n",
              "      <td>0.230000</td>\n",
              "      <td>302.000000</td>\n",
              "      <td>214.000000</td>\n",
              "      <td>2253.810000</td>\n",
              "      <td>2315.525000</td>\n",
              "      <td>2278.505000</td>\n",
              "      <td>2316.452500</td>\n",
              "      <td>7.963300</td>\n",
              "      <td>7.955100</td>\n",
              "    </tr>\n",
              "    <tr>\n",
              "      <th>max</th>\n",
              "      <td>34404.000000</td>\n",
              "      <td>864863.000000</td>\n",
              "      <td>5351.000000</td>\n",
              "      <td>31.140000</td>\n",
              "      <td>37.034000</td>\n",
              "      <td>11.130000</td>\n",
              "      <td>250.784000</td>\n",
              "      <td>214.100000</td>\n",
              "      <td>485.701800</td>\n",
              "      <td>25.000000</td>\n",
              "      <td>...</td>\n",
              "      <td>66.110000</td>\n",
              "      <td>65.300000</td>\n",
              "      <td>5458.000000</td>\n",
              "      <td>424.000000</td>\n",
              "      <td>2367.800000</td>\n",
              "      <td>2364.420000</td>\n",
              "      <td>2434.900000</td>\n",
              "      <td>2437.000000</td>\n",
              "      <td>7.988300</td>\n",
              "      <td>8.047700</td>\n",
              "    </tr>\n",
              "  </tbody>\n",
              "</table>\n",
              "<p>8 rows × 70 columns</p>\n",
              "</div>\n",
              "    <div class=\"colab-df-buttons\">\n",
              "\n",
              "  <div class=\"colab-df-container\">\n",
              "    <button class=\"colab-df-convert\" onclick=\"convertToInteractive('df-19f489d8-1fa5-4507-abf8-8f8736291b85')\"\n",
              "            title=\"Convert this dataframe to an interactive table.\"\n",
              "            style=\"display:none;\">\n",
              "\n",
              "  <svg xmlns=\"http://www.w3.org/2000/svg\" height=\"24px\" viewBox=\"0 -960 960 960\">\n",
              "    <path d=\"M120-120v-720h720v720H120Zm60-500h600v-160H180v160Zm220 220h160v-160H400v160Zm0 220h160v-160H400v160ZM180-400h160v-160H180v160Zm440 0h160v-160H620v160ZM180-180h160v-160H180v160Zm440 0h160v-160H620v160Z\"/>\n",
              "  </svg>\n",
              "    </button>\n",
              "\n",
              "  <style>\n",
              "    .colab-df-container {\n",
              "      display:flex;\n",
              "      gap: 12px;\n",
              "    }\n",
              "\n",
              "    .colab-df-convert {\n",
              "      background-color: #E8F0FE;\n",
              "      border: none;\n",
              "      border-radius: 50%;\n",
              "      cursor: pointer;\n",
              "      display: none;\n",
              "      fill: #1967D2;\n",
              "      height: 32px;\n",
              "      padding: 0 0 0 0;\n",
              "      width: 32px;\n",
              "    }\n",
              "\n",
              "    .colab-df-convert:hover {\n",
              "      background-color: #E2EBFA;\n",
              "      box-shadow: 0px 1px 2px rgba(60, 64, 67, 0.3), 0px 1px 3px 1px rgba(60, 64, 67, 0.15);\n",
              "      fill: #174EA6;\n",
              "    }\n",
              "\n",
              "    .colab-df-buttons div {\n",
              "      margin-bottom: 4px;\n",
              "    }\n",
              "\n",
              "    [theme=dark] .colab-df-convert {\n",
              "      background-color: #3B4455;\n",
              "      fill: #D2E3FC;\n",
              "    }\n",
              "\n",
              "    [theme=dark] .colab-df-convert:hover {\n",
              "      background-color: #434B5C;\n",
              "      box-shadow: 0px 1px 3px 1px rgba(0, 0, 0, 0.15);\n",
              "      filter: drop-shadow(0px 1px 2px rgba(0, 0, 0, 0.3));\n",
              "      fill: #FFFFFF;\n",
              "    }\n",
              "  </style>\n",
              "\n",
              "    <script>\n",
              "      const buttonEl =\n",
              "        document.querySelector('#df-19f489d8-1fa5-4507-abf8-8f8736291b85 button.colab-df-convert');\n",
              "      buttonEl.style.display =\n",
              "        google.colab.kernel.accessAllowed ? 'block' : 'none';\n",
              "\n",
              "      async function convertToInteractive(key) {\n",
              "        const element = document.querySelector('#df-19f489d8-1fa5-4507-abf8-8f8736291b85');\n",
              "        const dataTable =\n",
              "          await google.colab.kernel.invokeFunction('convertToInteractive',\n",
              "                                                    [key], {});\n",
              "        if (!dataTable) return;\n",
              "\n",
              "        const docLinkHtml = 'Like what you see? Visit the ' +\n",
              "          '<a target=\"_blank\" href=https://colab.research.google.com/notebooks/data_table.ipynb>data table notebook</a>'\n",
              "          + ' to learn more about interactive tables.';\n",
              "        element.innerHTML = '';\n",
              "        dataTable['output_type'] = 'display_data';\n",
              "        await google.colab.output.renderOutput(dataTable, element);\n",
              "        const docLink = document.createElement('div');\n",
              "        docLink.innerHTML = docLinkHtml;\n",
              "        element.appendChild(docLink);\n",
              "      }\n",
              "    </script>\n",
              "  </div>\n",
              "\n",
              "\n",
              "<div id=\"df-9a2a835d-2cd0-47f6-9b71-6f4891003e7c\">\n",
              "  <button class=\"colab-df-quickchart\" onclick=\"quickchart('df-9a2a835d-2cd0-47f6-9b71-6f4891003e7c')\"\n",
              "            title=\"Suggest charts\"\n",
              "            style=\"display:none;\">\n",
              "\n",
              "<svg xmlns=\"http://www.w3.org/2000/svg\" height=\"24px\"viewBox=\"0 0 24 24\"\n",
              "     width=\"24px\">\n",
              "    <g>\n",
              "        <path d=\"M19 3H5c-1.1 0-2 .9-2 2v14c0 1.1.9 2 2 2h14c1.1 0 2-.9 2-2V5c0-1.1-.9-2-2-2zM9 17H7v-7h2v7zm4 0h-2V7h2v10zm4 0h-2v-4h2v4z\"/>\n",
              "    </g>\n",
              "</svg>\n",
              "  </button>\n",
              "\n",
              "<style>\n",
              "  .colab-df-quickchart {\n",
              "      --bg-color: #E8F0FE;\n",
              "      --fill-color: #1967D2;\n",
              "      --hover-bg-color: #E2EBFA;\n",
              "      --hover-fill-color: #174EA6;\n",
              "      --disabled-fill-color: #AAA;\n",
              "      --disabled-bg-color: #DDD;\n",
              "  }\n",
              "\n",
              "  [theme=dark] .colab-df-quickchart {\n",
              "      --bg-color: #3B4455;\n",
              "      --fill-color: #D2E3FC;\n",
              "      --hover-bg-color: #434B5C;\n",
              "      --hover-fill-color: #FFFFFF;\n",
              "      --disabled-bg-color: #3B4455;\n",
              "      --disabled-fill-color: #666;\n",
              "  }\n",
              "\n",
              "  .colab-df-quickchart {\n",
              "    background-color: var(--bg-color);\n",
              "    border: none;\n",
              "    border-radius: 50%;\n",
              "    cursor: pointer;\n",
              "    display: none;\n",
              "    fill: var(--fill-color);\n",
              "    height: 32px;\n",
              "    padding: 0;\n",
              "    width: 32px;\n",
              "  }\n",
              "\n",
              "  .colab-df-quickchart:hover {\n",
              "    background-color: var(--hover-bg-color);\n",
              "    box-shadow: 0 1px 2px rgba(60, 64, 67, 0.3), 0 1px 3px 1px rgba(60, 64, 67, 0.15);\n",
              "    fill: var(--button-hover-fill-color);\n",
              "  }\n",
              "\n",
              "  .colab-df-quickchart-complete:disabled,\n",
              "  .colab-df-quickchart-complete:disabled:hover {\n",
              "    background-color: var(--disabled-bg-color);\n",
              "    fill: var(--disabled-fill-color);\n",
              "    box-shadow: none;\n",
              "  }\n",
              "\n",
              "  .colab-df-spinner {\n",
              "    border: 2px solid var(--fill-color);\n",
              "    border-color: transparent;\n",
              "    border-bottom-color: var(--fill-color);\n",
              "    animation:\n",
              "      spin 1s steps(1) infinite;\n",
              "  }\n",
              "\n",
              "  @keyframes spin {\n",
              "    0% {\n",
              "      border-color: transparent;\n",
              "      border-bottom-color: var(--fill-color);\n",
              "      border-left-color: var(--fill-color);\n",
              "    }\n",
              "    20% {\n",
              "      border-color: transparent;\n",
              "      border-left-color: var(--fill-color);\n",
              "      border-top-color: var(--fill-color);\n",
              "    }\n",
              "    30% {\n",
              "      border-color: transparent;\n",
              "      border-left-color: var(--fill-color);\n",
              "      border-top-color: var(--fill-color);\n",
              "      border-right-color: var(--fill-color);\n",
              "    }\n",
              "    40% {\n",
              "      border-color: transparent;\n",
              "      border-right-color: var(--fill-color);\n",
              "      border-top-color: var(--fill-color);\n",
              "    }\n",
              "    60% {\n",
              "      border-color: transparent;\n",
              "      border-right-color: var(--fill-color);\n",
              "    }\n",
              "    80% {\n",
              "      border-color: transparent;\n",
              "      border-right-color: var(--fill-color);\n",
              "      border-bottom-color: var(--fill-color);\n",
              "    }\n",
              "    90% {\n",
              "      border-color: transparent;\n",
              "      border-bottom-color: var(--fill-color);\n",
              "    }\n",
              "  }\n",
              "</style>\n",
              "\n",
              "  <script>\n",
              "    async function quickchart(key) {\n",
              "      const quickchartButtonEl =\n",
              "        document.querySelector('#' + key + ' button');\n",
              "      quickchartButtonEl.disabled = true;  // To prevent multiple clicks.\n",
              "      quickchartButtonEl.classList.add('colab-df-spinner');\n",
              "      try {\n",
              "        const charts = await google.colab.kernel.invokeFunction(\n",
              "            'suggestCharts', [key], {});\n",
              "      } catch (error) {\n",
              "        console.error('Error during call to suggestCharts:', error);\n",
              "      }\n",
              "      quickchartButtonEl.classList.remove('colab-df-spinner');\n",
              "      quickchartButtonEl.classList.add('colab-df-quickchart-complete');\n",
              "    }\n",
              "    (() => {\n",
              "      let quickchartButtonEl =\n",
              "        document.querySelector('#df-9a2a835d-2cd0-47f6-9b71-6f4891003e7c button');\n",
              "      quickchartButtonEl.style.display =\n",
              "        google.colab.kernel.accessAllowed ? 'block' : 'none';\n",
              "    })();\n",
              "  </script>\n",
              "</div>\n",
              "\n",
              "    </div>\n",
              "  </div>\n"
            ],
            "application/vnd.google.colaboratory.intrinsic+json": {
              "type": "dataframe"
            }
          },
          "metadata": {},
          "execution_count": 14
        }
      ]
    },
    {
      "cell_type": "code",
      "source": [
        "hist = dataset['Depthm'].hist(bins=10)"
      ],
      "metadata": {
        "colab": {
          "base_uri": "https://localhost:8080/",
          "height": 430
        },
        "id": "CqZeHjLqRAQS",
        "outputId": "588cd7c6-10fa-446d-fd0d-dc7ed018b84b"
      },
      "execution_count": 15,
      "outputs": [
        {
          "output_type": "display_data",
          "data": {
            "text/plain": [
              "<Figure size 640x480 with 1 Axes>"
            ],
            "image/png": "[encoded data removed]"
          },
          "metadata": {}
        }
      ]
    },
    {
      "cell_type": "markdown",
      "source": [
        "Remove instances with no readings for salinity"
      ],
      "metadata": {
        "id": "XQ4ZPORenxFV"
      }
    },
    {
      "cell_type": "code",
      "source": [
        "print(len(dataset), ', Nan values=', dataset['Salnty'].isna().sum(), ', Percentage=', round(dataset['Salnty'].isna().sum()/len(dataset),3)*100, '%')"
      ],
      "metadata": {
        "colab": {
          "base_uri": "https://localhost:8080/"
        },
        "id": "hiS9V4n7oE7N",
        "outputId": "1e848c6c-9189-49d5-b558-851e10fad2e6"
      },
      "execution_count": 6,
      "outputs": [
        {
          "output_type": "stream",
          "name": "stdout",
          "text": [
            "840590 , Nan values= 47355 , Percentage= 5.6000000000000005 %\n"
          ]
        }
      ]
    },
    {
      "cell_type": "code",
      "source": [
        "len(dataset[~dataset['Salnty'].isna()])\n",
        "dataset_copy = dataset[~dataset['Salnty'].isna()]\n",
        "print(dataset.shape)\n",
        "print(dataset_copy.shape)"
      ],
      "metadata": {
        "colab": {
          "base_uri": "https://localhost:8080/"
        },
        "id": "OLv2hNMuo0pd",
        "outputId": "b132432b-ef44-488d-e575-4cdb7cbd778c"
      },
      "execution_count": 7,
      "outputs": [
        {
          "output_type": "stream",
          "name": "stdout",
          "text": [
            "(864863, 74)\n",
            "(817509, 74)\n"
          ]
        }
      ]
    },
    {
      "cell_type": "markdown",
      "source": [
        "#Train Test Split based with stratified sampling based on depth"
      ],
      "metadata": {
        "id": "39HQtAjU4Ay0"
      }
    },
    {
      "cell_type": "code",
      "source": [
        "dataset_copy[\"Depthm\"].hist(bins=10, figsize=(10,5))"
      ],
      "metadata": {
        "colab": {
          "base_uri": "https://localhost:8080/",
          "height": 462
        },
        "id": "vvMP1whCpdk9",
        "outputId": "4404a418-63cb-4e82-a5de-e2794fde749e"
      },
      "execution_count": 29,
      "outputs": [
        {
          "output_type": "execute_result",
          "data": {
            "text/plain": [
              "<Axes: >"
            ]
          },
          "metadata": {},
          "execution_count": 29
        },
        {
          "output_type": "display_data",
          "data": {
            "text/plain": [
              "<Figure size 1000x500 with 1 Axes>"
            ],
            "image/png": "[encoded data removed]"
          },
          "metadata": {}
        }
      ]
    },
    {
      "cell_type": "code",
      "source": [
        "depth_bins = np.arange(0,1000, 100)\n",
        "import numpy as np\n",
        "#depth_bins = np.arange(0,1500, 250)\n",
        "depth_bins = np.append(depth_bins, [np.inf])\n",
        "print(depth_bins)"
      ],
      "metadata": {
        "colab": {
          "base_uri": "https://localhost:8080/"
        },
        "id": "94GmZ8dukPrE",
        "outputId": "7aeb7abc-0b72-497c-d79e-b44c08951d24"
      },
      "execution_count": 8,
      "outputs": [
        {
          "output_type": "stream",
          "name": "stdout",
          "text": [
            "[  0. 100. 200. 300. 400. 500. 600. 700. 800. 900.  inf]\n"
          ]
        }
      ]
    },
    {
      "cell_type": "code",
      "source": [
        "depth_labels = np.arange(1, len(depth_bins))\n",
        "print('labels=', depth_labels, len(depth_labels))"
      ],
      "metadata": {
        "colab": {
          "base_uri": "https://localhost:8080/"
        },
        "id": "hCJtUpDi1JNc",
        "outputId": "e94f5d43-e229-4eeb-915d-436e848154dc"
      },
      "execution_count": 9,
      "outputs": [
        {
          "output_type": "stream",
          "name": "stdout",
          "text": [
            "labels= [ 1  2  3  4  5  6  7  8  9 10] 10\n"
          ]
        }
      ]
    },
    {
      "cell_type": "code",
      "source": [
        "dataset_copy = dataset_copy.ffill()\n",
        "dataset_copy = dataset_copy.bfill()"
      ],
      "metadata": {
        "id": "wE8YFaxvdQ-i"
      },
      "execution_count": 10,
      "outputs": []
    },
    {
      "cell_type": "code",
      "source": [
        "print(dataset_copy[dataset_copy['Salnty'].isna()].index)\n",
        "dataset_copy[dataset_copy['Depthm'].isna()]"
      ],
      "metadata": {
        "colab": {
          "base_uri": "https://localhost:8080/",
          "height": 96
        },
        "id": "a-dYDSNXkXzq",
        "outputId": "636d49d8-2c9b-40a3-c606-0eda3ec739fa"
      },
      "execution_count": 11,
      "outputs": [
        {
          "output_type": "stream",
          "name": "stdout",
          "text": [
            "Index([], dtype='int64')\n"
          ]
        },
        {
          "output_type": "execute_result",
          "data": {
            "text/plain": [
              "Empty DataFrame\n",
              "Columns: [Cst_Cnt, Btl_Cnt, Sta_ID, Depth_ID, Depthm, T_degC, Salnty, O2ml_L, STheta, O2Sat, Oxy_µmol/Kg, BtlNum, RecInd, T_prec, T_qual, S_prec, S_qual, P_qual, O_qual, SThtaq, O2Satq, ChlorA, Chlqua, Phaeop, Phaqua, PO4uM, PO4q, SiO3uM, SiO3qu, NO2uM, NO2q, NO3uM, NO3q, NH3uM, NH3q, C14As1, C14A1p, C14A1q, C14As2, C14A2p, C14A2q, DarkAs, DarkAp, DarkAq, MeanAs, MeanAp, MeanAq, IncTim, LightP, R_Depth, R_TEMP, R_POTEMP, R_SALINITY, R_SIGMA, R_SVA, R_DYNHT, R_O2, R_O2Sat, R_SIO3, R_PO4, R_NO3, R_NO2, R_NH4, R_CHLA, R_PHAEO, R_PRES, R_SAMP, DIC1, DIC2, TA1, TA2, pH2, pH1, DIC Quality Comment]\n",
              "Index: []\n",
              "\n",
              "[0 rows x 74 columns]"
            ],
            "text/html": [
              "\n",
              "  <div id=\"df-cd118fbc-c915-4306-831c-9cbdcad35d62\" class=\"colab-df-container\">\n",
              "    <div>\n",
              "<style scoped>\n",
              "    .dataframe tbody tr th:only-of-type {\n",
              "        vertical-align: middle;\n",
              "    }\n",
              "\n",
              "    .dataframe tbody tr th {\n",
              "        vertical-align: top;\n",
              "    }\n",
              "\n",
              "    .dataframe thead th {\n",
              "        text-align: right;\n",
              "    }\n",
              "</style>\n",
              "<table border=\"1\" class=\"dataframe\">\n",
              "  <thead>\n",
              "    <tr style=\"text-align: right;\">\n",
              "      <th></th>\n",
              "      <th>Cst_Cnt</th>\n",
              "      <th>Btl_Cnt</th>\n",
              "      <th>Sta_ID</th>\n",
              "      <th>Depth_ID</th>\n",
              "      <th>Depthm</th>\n",
              "      <th>T_degC</th>\n",
              "      <th>Salnty</th>\n",
              "      <th>O2ml_L</th>\n",
              "      <th>STheta</th>\n",
              "      <th>O2Sat</th>\n",
              "      <th>...</th>\n",
              "      <th>R_PHAEO</th>\n",
              "      <th>R_PRES</th>\n",
              "      <th>R_SAMP</th>\n",
              "      <th>DIC1</th>\n",
              "      <th>DIC2</th>\n",
              "      <th>TA1</th>\n",
              "      <th>TA2</th>\n",
              "      <th>pH2</th>\n",
              "      <th>pH1</th>\n",
              "      <th>DIC Quality Comment</th>\n",
              "    </tr>\n",
              "  </thead>\n",
              "  <tbody>\n",
              "  </tbody>\n",
              "</table>\n",
              "<p>0 rows × 74 columns</p>\n",
              "</div>\n",
              "    <div class=\"colab-df-buttons\">\n",
              "\n",
              "  <div class=\"colab-df-container\">\n",
              "    <button class=\"colab-df-convert\" onclick=\"convertToInteractive('df-cd118fbc-c915-4306-831c-9cbdcad35d62')\"\n",
              "            title=\"Convert this dataframe to an interactive table.\"\n",
              "            style=\"display:none;\">\n",
              "\n",
              "  <svg xmlns=\"http://www.w3.org/2000/svg\" height=\"24px\" viewBox=\"0 -960 960 960\">\n",
              "    <path d=\"M120-120v-720h720v720H120Zm60-500h600v-160H180v160Zm220 220h160v-160H400v160Zm0 220h160v-160H400v160ZM180-400h160v-160H180v160Zm440 0h160v-160H620v160ZM180-180h160v-160H180v160Zm440 0h160v-160H620v160Z\"/>\n",
              "  </svg>\n",
              "    </button>\n",
              "\n",
              "  <style>\n",
              "    .colab-df-container {\n",
              "      display:flex;\n",
              "      gap: 12px;\n",
              "    }\n",
              "\n",
              "    .colab-df-convert {\n",
              "      background-color: #E8F0FE;\n",
              "      border: none;\n",
              "      border-radius: 50%;\n",
              "      cursor: pointer;\n",
              "      display: none;\n",
              "      fill: #1967D2;\n",
              "      height: 32px;\n",
              "      padding: 0 0 0 0;\n",
              "      width: 32px;\n",
              "    }\n",
              "\n",
              "    .colab-df-convert:hover {\n",
              "      background-color: #E2EBFA;\n",
              "      box-shadow: 0px 1px 2px rgba(60, 64, 67, 0.3), 0px 1px 3px 1px rgba(60, 64, 67, 0.15);\n",
              "      fill: #174EA6;\n",
              "    }\n",
              "\n",
              "    .colab-df-buttons div {\n",
              "      margin-bottom: 4px;\n",
              "    }\n",
              "\n",
              "    [theme=dark] .colab-df-convert {\n",
              "      background-color: #3B4455;\n",
              "      fill: #D2E3FC;\n",
              "    }\n",
              "\n",
              "    [theme=dark] .colab-df-convert:hover {\n",
              "      background-color: #434B5C;\n",
              "      box-shadow: 0px 1px 3px 1px rgba(0, 0, 0, 0.15);\n",
              "      filter: drop-shadow(0px 1px 2px rgba(0, 0, 0, 0.3));\n",
              "      fill: #FFFFFF;\n",
              "    }\n",
              "  </style>\n",
              "\n",
              "    <script>\n",
              "      const buttonEl =\n",
              "        document.querySelector('#df-cd118fbc-c915-4306-831c-9cbdcad35d62 button.colab-df-convert');\n",
              "      buttonEl.style.display =\n",
              "        google.colab.kernel.accessAllowed ? 'block' : 'none';\n",
              "\n",
              "      async function convertToInteractive(key) {\n",
              "        const element = document.querySelector('#df-cd118fbc-c915-4306-831c-9cbdcad35d62');\n",
              "        const dataTable =\n",
              "          await google.colab.kernel.invokeFunction('convertToInteractive',\n",
              "                                                    [key], {});\n",
              "        if (!dataTable) return;\n",
              "\n",
              "        const docLinkHtml = 'Like what you see? Visit the ' +\n",
              "          '<a target=\"_blank\" href=https://colab.research.google.com/notebooks/data_table.ipynb>data table notebook</a>'\n",
              "          + ' to learn more about interactive tables.';\n",
              "        element.innerHTML = '';\n",
              "        dataTable['output_type'] = 'display_data';\n",
              "        await google.colab.output.renderOutput(dataTable, element);\n",
              "        const docLink = document.createElement('div');\n",
              "        docLink.innerHTML = docLinkHtml;\n",
              "        element.appendChild(docLink);\n",
              "      }\n",
              "    </script>\n",
              "  </div>\n",
              "\n",
              "\n",
              "    </div>\n",
              "  </div>\n"
            ],
            "application/vnd.google.colaboratory.intrinsic+json": {
              "type": "dataframe"
            }
          },
          "metadata": {},
          "execution_count": 11
        }
      ]
    },
    {
      "cell_type": "code",
      "source": [
        "dataset_copy.info()"
      ],
      "metadata": {
        "colab": {
          "base_uri": "https://localhost:8080/"
        },
        "id": "aNKjvF5HkjEL",
        "outputId": "c06750ac-800f-4205-e2bd-fc8f605e1f8e"
      },
      "execution_count": 19,
      "outputs": [
        {
          "output_type": "stream",
          "name": "stdout",
          "text": [
            "<class 'pandas.core.frame.DataFrame'>\n",
            "Index: 817509 entries, 0 to 864862\n",
            "Data columns (total 74 columns):\n",
            " #   Column               Non-Null Count   Dtype  \n",
            "---  ------               --------------   -----  \n",
            " 0   Cst_Cnt              817509 non-null  int64  \n",
            " 1   Btl_Cnt              817509 non-null  int64  \n",
            " 2   Sta_ID               817509 non-null  object \n",
            " 3   Depth_ID             817509 non-null  object \n",
            " 4   Depthm               817509 non-null  int64  \n",
            " 5   T_degC               814247 non-null  float64\n",
            " 6   Salnty               817509 non-null  float64\n",
            " 7   O2ml_L               664195 non-null  float64\n",
            " 8   STheta               812174 non-null  float64\n",
            " 9   O2Sat                661274 non-null  float64\n",
            " 10  Oxy_µmol/Kg          661268 non-null  float64\n",
            " 11  BtlNum               118613 non-null  float64\n",
            " 12  RecInd               817509 non-null  int64  \n",
            " 13  T_prec               814247 non-null  float64\n",
            " 14  T_qual               15408 non-null   float64\n",
            " 15  S_prec               817509 non-null  float64\n",
            " 16  S_qual               27560 non-null   float64\n",
            " 17  P_qual               626776 non-null  float64\n",
            " 18  O_qual               169183 non-null  float64\n",
            " 19  SThtaq               18469 non-null   float64\n",
            " 20  O2Satq               170443 non-null  float64\n",
            " 21  ChlorA               221839 non-null  float64\n",
            " 22  Chlqua               595245 non-null  float64\n",
            " 23  Phaeop               221839 non-null  float64\n",
            " 24  Phaqua               595248 non-null  float64\n",
            " 25  PO4uM                393930 non-null  float64\n",
            " 26  PO4q                 423769 non-null  float64\n",
            " 27  SiO3uM               348693 non-null  float64\n",
            " 28  SiO3qu               468894 non-null  float64\n",
            " 29  NO2uM                333166 non-null  float64\n",
            " 30  NO2q                 486528 non-null  float64\n",
            " 31  NO3uM                332233 non-null  float64\n",
            " 32  NO3q                 487720 non-null  float64\n",
            " 33  NH3uM                64959 non-null   float64\n",
            " 34  NH3q                 760948 non-null  float64\n",
            " 35  C14As1               12926 non-null   float64\n",
            " 36  C14A1p               11254 non-null   float64\n",
            " 37  C14A1q               802757 non-null  float64\n",
            " 38  C14As2               12926 non-null   float64\n",
            " 39  C14A2p               11254 non-null   float64\n",
            " 40  C14A2q               802757 non-null  float64\n",
            " 41  DarkAs               20090 non-null   float64\n",
            " 42  DarkAp               17898 non-null   float64\n",
            " 43  DarkAq               795645 non-null  float64\n",
            " 44  MeanAs               20091 non-null   float64\n",
            " 45  MeanAp               17898 non-null   float64\n",
            " 46  MeanAq               795644 non-null  float64\n",
            " 47  IncTim               12931 non-null   object \n",
            " 48  LightP               16080 non-null   float64\n",
            " 49  R_Depth              817509 non-null  float64\n",
            " 50  R_TEMP               814247 non-null  float64\n",
            " 51  R_POTEMP             813269 non-null  float64\n",
            " 52  R_SALINITY           817509 non-null  float64\n",
            " 53  R_SIGMA              812007 non-null  float64\n",
            " 54  R_SVA                812092 non-null  float64\n",
            " 55  R_DYNHT              811598 non-null  float64\n",
            " 56  R_O2                 664195 non-null  float64\n",
            " 57  R_O2Sat              661762 non-null  float64\n",
            " 58  R_SIO3               348701 non-null  float64\n",
            " 59  R_PO4                393938 non-null  float64\n",
            " 60  R_NO3                332241 non-null  float64\n",
            " 61  R_NO2                333174 non-null  float64\n",
            " 62  R_NH4                64979 non-null   float64\n",
            " 63  R_CHLA               221843 non-null  float64\n",
            " 64  R_PHAEO              221843 non-null  float64\n",
            " 65  R_PRES               817509 non-null  int64  \n",
            " 66  R_SAMP               121950 non-null  float64\n",
            " 67  DIC1                 1999 non-null    float64\n",
            " 68  DIC2                 224 non-null     float64\n",
            " 69  TA1                  2084 non-null    float64\n",
            " 70  TA2                  234 non-null     float64\n",
            " 71  pH2                  10 non-null      float64\n",
            " 72  pH1                  84 non-null      float64\n",
            " 73  DIC Quality Comment  55 non-null      object \n",
            "dtypes: float64(65), int64(5), object(4)\n",
            "memory usage: 467.8+ MB\n"
          ]
        }
      ]
    },
    {
      "cell_type": "code",
      "source": [
        "dataset_copy['depth_cat'] = pd.cut(dataset_copy['Depthm'],\n",
        "                   bins = depth_bins,\n",
        "                   labels = depth_labels)"
      ],
      "metadata": {
        "id": "st3csv8ckpsJ"
      },
      "execution_count": 12,
      "outputs": []
    },
    {
      "cell_type": "code",
      "source": [
        "dataset_copy['depth_cat'].hist()"
      ],
      "metadata": {
        "colab": {
          "base_uri": "https://localhost:8080/",
          "height": 447
        },
        "id": "iiWXBjBLks2y",
        "outputId": "fa87e5f0-71a9-4246-9c86-9d3463c09d68"
      },
      "execution_count": 13,
      "outputs": [
        {
          "output_type": "execute_result",
          "data": {
            "text/plain": [
              "<Axes: >"
            ]
          },
          "metadata": {},
          "execution_count": 13
        },
        {
          "output_type": "display_data",
          "data": {
            "text/plain": [
              "<Figure size 640x480 with 1 Axes>"
            ],
            "image/png": "[encoded data removed]"
          },
          "metadata": {}
        }
      ]
    },
    {
      "cell_type": "code",
      "source": [
        "dataset_copy.columns"
      ],
      "metadata": {
        "colab": {
          "base_uri": "https://localhost:8080/"
        },
        "id": "3F-5rUN8tSF1",
        "outputId": "9e30fd9b-f65f-433d-8b82-95378ee3e906"
      },
      "execution_count": null,
      "outputs": [
        {
          "output_type": "execute_result",
          "data": {
            "text/plain": [
              "Index(['Cst_Cnt', 'Btl_Cnt', 'Sta_ID', 'Depth_ID', 'Depthm', 'T_degC',\n",
              "       'Salnty', 'O2ml_L', 'STheta', 'O2Sat', 'Oxy_µmol/Kg', 'BtlNum',\n",
              "       'RecInd', 'T_prec', 'T_qual', 'S_prec', 'S_qual', 'P_qual', 'O_qual',\n",
              "       'SThtaq', 'O2Satq', 'ChlorA', 'Chlqua', 'Phaeop', 'Phaqua', 'PO4uM',\n",
              "       'PO4q', 'SiO3uM', 'SiO3qu', 'NO2uM', 'NO2q', 'NO3uM', 'NO3q', 'NH3uM',\n",
              "       'NH3q', 'C14As1', 'C14A1p', 'C14A1q', 'C14As2', 'C14A2p', 'C14A2q',\n",
              "       'DarkAs', 'DarkAp', 'DarkAq', 'MeanAs', 'MeanAp', 'MeanAq', 'IncTim',\n",
              "       'LightP', 'R_Depth', 'R_TEMP', 'R_POTEMP', 'R_SALINITY', 'R_SIGMA',\n",
              "       'R_SVA', 'R_DYNHT', 'R_O2', 'R_O2Sat', 'R_SIO3', 'R_PO4', 'R_NO3',\n",
              "       'R_NO2', 'R_NH4', 'R_CHLA', 'R_PHAEO', 'R_PRES', 'R_SAMP', 'DIC1',\n",
              "       'DIC2', 'TA1', 'TA2', 'pH2', 'pH1', 'DIC Quality Comment', 'depth_cat'],\n",
              "      dtype='object')"
            ]
          },
          "metadata": {},
          "execution_count": 17
        }
      ]
    },
    {
      "cell_type": "code",
      "source": [
        "depth_cat_na = dataset_copy[dataset_copy['depth_cat'].isna()]\n",
        "print(depth_cat_na.loc[:, ['Depthm']].value_counts())"
      ],
      "metadata": {
        "colab": {
          "base_uri": "https://localhost:8080/"
        },
        "id": "pGoos1qcewhz",
        "outputId": "3bceb6d4-baa0-46b3-abdc-6c1040fd6551"
      },
      "execution_count": 14,
      "outputs": [
        {
          "output_type": "stream",
          "name": "stdout",
          "text": [
            "Depthm\n",
            "0         31782\n",
            "Name: count, dtype: int64\n"
          ]
        }
      ]
    },
    {
      "cell_type": "code",
      "source": [
        "dataset_copy['depth_cat'] = dataset_copy['depth_cat'].fillna(1)"
      ],
      "metadata": {
        "id": "9hITBohYe1cy"
      },
      "execution_count": 15,
      "outputs": []
    },
    {
      "cell_type": "code",
      "source": [
        "print(dataset_copy.shape)\n",
        "print(dataset_copy['depth_cat'].shape)"
      ],
      "metadata": {
        "colab": {
          "base_uri": "https://localhost:8080/"
        },
        "id": "uOWXttR2e5FD",
        "outputId": "be5268b2-5308-4c3e-f769-fdd415a9e014"
      },
      "execution_count": 16,
      "outputs": [
        {
          "output_type": "stream",
          "name": "stdout",
          "text": [
            "(817509, 75)\n",
            "(817509,)\n"
          ]
        }
      ]
    },
    {
      "cell_type": "code",
      "source": [
        "dataset_copy['depth_cat'].hist()"
      ],
      "metadata": {
        "colab": {
          "base_uri": "https://localhost:8080/",
          "height": 447
        },
        "id": "st8p7XuA0Nj2",
        "outputId": "9c8d30d7-32d4-4d1e-b530-ca9905c18450"
      },
      "execution_count": 17,
      "outputs": [
        {
          "output_type": "execute_result",
          "data": {
            "text/plain": [
              "<Axes: >"
            ]
          },
          "metadata": {},
          "execution_count": 17
        },
        {
          "output_type": "display_data",
          "data": {
            "text/plain": [
              "<Figure size 640x480 with 1 Axes>"
            ],
            "image/png": "[encoded data removed]"
          },
          "metadata": {}
        }
      ]
    },
    {
      "cell_type": "code",
      "source": [
        "dataset_copy['Cst_Cnt'].sort_values()\n"
      ],
      "metadata": {
        "colab": {
          "base_uri": "https://localhost:8080/"
        },
        "id": "Idal_NnoqtXg",
        "outputId": "b6bcf0bd-8b5b-4772-d296-260c5572786c"
      },
      "execution_count": 31,
      "outputs": [
        {
          "output_type": "execute_result",
          "data": {
            "text/plain": [
              "0             1\n",
              "28            1\n",
              "27            1\n",
              "26            1\n",
              "25            1\n",
              "          ...  \n",
              "864860    34404\n",
              "864861    34404\n",
              "864858    34404\n",
              "864859    34404\n",
              "864862    34404\n",
              "Name: Cst_Cnt, Length: 817509, dtype: int64"
            ]
          },
          "metadata": {},
          "execution_count": 31
        }
      ]
    },
    {
      "cell_type": "code",
      "source": [
        "dataset_copy['Cst_Cnt'].sort_values().value_counts()"
      ],
      "metadata": {
        "colab": {
          "base_uri": "https://localhost:8080/"
        },
        "id": "ov2hWrUVrJu2",
        "outputId": "2292819f-283d-4b2f-c691-ac345d782538"
      },
      "execution_count": null,
      "outputs": [
        {
          "output_type": "execute_result",
          "data": {
            "text/plain": [
              "Cst_Cnt\n",
              "1817    56\n",
              "2690    56\n",
              "2417    56\n",
              "2666    56\n",
              "1809    55\n",
              "        ..\n",
              "1043     6\n",
              "2754     6\n",
              "2623     6\n",
              "2705     6\n",
              "1395     6\n",
              "Name: count, Length: 2786, dtype: int64"
            ]
          },
          "metadata": {},
          "execution_count": 20
        }
      ]
    },
    {
      "cell_type": "code",
      "source": [
        "dataset_copy['depth_cat'].value_counts(), dataset_copy['depth_cat'].value_counts()/len(dataset)*100"
      ],
      "metadata": {
        "colab": {
          "base_uri": "https://localhost:8080/"
        },
        "id": "nvP1kMzwkyJq",
        "outputId": "8534ae92-14b1-4c4d-9e4a-0c829491358f"
      },
      "execution_count": 35,
      "outputs": [
        {
          "output_type": "execute_result",
          "data": {
            "text/plain": [
              "(depth_cat\n",
              " 1     374871\n",
              " 2     160574\n",
              " 3      98674\n",
              " 4      55473\n",
              " 5      47086\n",
              " 6      30011\n",
              " 10     24021\n",
              " 7      10439\n",
              " 8       8499\n",
              " 9       7861\n",
              " Name: count, dtype: int64,\n",
              " depth_cat\n",
              " 1     43.344553\n",
              " 2     18.566409\n",
              " 3     11.409206\n",
              " 4      6.414079\n",
              " 5      5.444330\n",
              " 6      3.470029\n",
              " 10     2.777434\n",
              " 7      1.207012\n",
              " 8      0.982699\n",
              " 9      0.908930\n",
              " Name: count, dtype: float64)"
            ]
          },
          "metadata": {},
          "execution_count": 35
        }
      ]
    },
    {
      "cell_type": "code",
      "source": [
        "print(dataset_copy.shape)\n",
        "print(dataset_copy['depth_cat'].shape)"
      ],
      "metadata": {
        "colab": {
          "base_uri": "https://localhost:8080/"
        },
        "id": "QezeShYAk90K",
        "outputId": "a8d56595-9738-4e2e-8f14-d3cb2040581f"
      },
      "execution_count": 18,
      "outputs": [
        {
          "output_type": "stream",
          "name": "stdout",
          "text": [
            "(817509, 75)\n",
            "(817509,)\n"
          ]
        }
      ]
    },
    {
      "cell_type": "code",
      "source": [
        "len(dataset_copy[dataset_copy['depth_cat'].isna()])\n",
        "dataset_copy[dataset_copy['depth_cat'].isna()].index"
      ],
      "metadata": {
        "colab": {
          "base_uri": "https://localhost:8080/"
        },
        "id": "ZOsbWomvn7iJ",
        "outputId": "3fb65627-7d4c-4bc3-88f3-8ef77d43dec2"
      },
      "execution_count": 36,
      "outputs": [
        {
          "output_type": "execute_result",
          "data": {
            "text/plain": [
              "Index([], dtype='int64')"
            ]
          },
          "metadata": {},
          "execution_count": 36
        }
      ]
    },
    {
      "cell_type": "code",
      "source": [
        "len(dataset_copy[dataset_copy['Depthm'].isna()])\n",
        "dataset_copy[dataset_copy['Depthm'].isna()].index"
      ],
      "metadata": {
        "colab": {
          "base_uri": "https://localhost:8080/"
        },
        "id": "sDG6cgGDtuPu",
        "outputId": "acc94738-b7c7-427b-9a03-62f4fa93cc31"
      },
      "execution_count": null,
      "outputs": [
        {
          "output_type": "execute_result",
          "data": {
            "text/plain": [
              "Index([], dtype='int64')"
            ]
          },
          "metadata": {},
          "execution_count": 22
        }
      ]
    },
    {
      "cell_type": "code",
      "source": [
        "len(dataset_copy[dataset_copy['Salnty'].isna()])\n",
        "dataset_copy[dataset_copy['Salnty'].isna()].index"
      ],
      "metadata": {
        "colab": {
          "base_uri": "https://localhost:8080/"
        },
        "id": "OZH7aAKft1td",
        "outputId": "b9adca62-53f0-47b2-f839-ee6874ea2e5b"
      },
      "execution_count": null,
      "outputs": [
        {
          "output_type": "execute_result",
          "data": {
            "text/plain": [
              "Index([], dtype='int64')"
            ]
          },
          "metadata": {},
          "execution_count": 23
        }
      ]
    },
    {
      "cell_type": "code",
      "source": [
        "dataset_copy = dataset_copy.ffill()\n",
        "dataset_copy = dataset_copy.bfill()\n",
        "print(len(dataset_copy[dataset_copy['depth_cat'].isna()]))\n",
        "dataset_copy[dataset_copy['depth_cat'].isna()].index"
      ],
      "metadata": {
        "colab": {
          "base_uri": "https://localhost:8080/"
        },
        "id": "YSnsn0hioV4D",
        "outputId": "fb201b3f-e8ce-4286-e69a-ad178e109c68"
      },
      "execution_count": 19,
      "outputs": [
        {
          "output_type": "stream",
          "name": "stdout",
          "text": [
            "0\n"
          ]
        },
        {
          "output_type": "execute_result",
          "data": {
            "text/plain": [
              "Index([], dtype='int64')"
            ]
          },
          "metadata": {},
          "execution_count": 19
        }
      ]
    },
    {
      "cell_type": "code",
      "source": [
        "from sklearn.model_selection import StratifiedShuffleSplit\n",
        "split_obj = StratifiedShuffleSplit(n_splits=1, test_size=0.2, random_state=42)"
      ],
      "metadata": {
        "id": "xQokYWU4o2T2"
      },
      "execution_count": 20,
      "outputs": []
    },
    {
      "cell_type": "code",
      "source": [
        "gen_obj = split_obj.split(dataset_copy, dataset_copy['depth_cat'])"
      ],
      "metadata": {
        "id": "CzDZFO09o4oq"
      },
      "execution_count": 21,
      "outputs": []
    },
    {
      "cell_type": "markdown",
      "source": [
        "Only 1 iterator because, n_split is 1"
      ],
      "metadata": {
        "id": "V5NwGcC33vfc"
      }
    },
    {
      "cell_type": "code",
      "source": [
        "for i, (train_index, test_index) in enumerate(gen_obj):\n",
        "    print(i,'. ',train_index, ', ', test_index)\n"
      ],
      "metadata": {
        "colab": {
          "base_uri": "https://localhost:8080/"
        },
        "id": "pF_xNgVCp0y7",
        "outputId": "2373b084-5d47-4caa-bec8-8514c3790d25"
      },
      "execution_count": 22,
      "outputs": [
        {
          "output_type": "stream",
          "name": "stdout",
          "text": [
            "0 .  [668632 581067 259995 ... 178046 185928 630531] ,  [324793 165488 716248 ... 620159 305808 136145]\n"
          ]
        }
      ]
    },
    {
      "cell_type": "code",
      "source": [
        "print(len(train_index))\n",
        "print(len(test_index))\n"
      ],
      "metadata": {
        "colab": {
          "base_uri": "https://localhost:8080/"
        },
        "id": "T4TBIDWy28wk",
        "outputId": "bfe8edeb-dcb3-41d7-ea6a-a297fb5337d9"
      },
      "execution_count": 23,
      "outputs": [
        {
          "output_type": "stream",
          "name": "stdout",
          "text": [
            "654007\n",
            "163502\n"
          ]
        }
      ]
    },
    {
      "cell_type": "markdown",
      "source": [
        "Splitting dataset"
      ],
      "metadata": {
        "id": "e1wmZOLt4Sic"
      }
    },
    {
      "cell_type": "code",
      "source": [
        "dataset_copy.drop(['depth_cat'], axis=1, inplace=True)\n",
        "dataset_copy.columns"
      ],
      "metadata": {
        "colab": {
          "base_uri": "https://localhost:8080/"
        },
        "id": "q8a1i0svzB-A",
        "outputId": "a22a3e75-ea8c-4c78-ada6-6ec7f2a8e1b6"
      },
      "execution_count": 24,
      "outputs": [
        {
          "output_type": "execute_result",
          "data": {
            "text/plain": [
              "Index(['Cst_Cnt', 'Btl_Cnt', 'Sta_ID', 'Depth_ID', 'Depthm', 'T_degC',\n",
              "       'Salnty', 'O2ml_L', 'STheta', 'O2Sat', 'Oxy_µmol/Kg', 'BtlNum',\n",
              "       'RecInd', 'T_prec', 'T_qual', 'S_prec', 'S_qual', 'P_qual', 'O_qual',\n",
              "       'SThtaq', 'O2Satq', 'ChlorA', 'Chlqua', 'Phaeop', 'Phaqua', 'PO4uM',\n",
              "       'PO4q', 'SiO3uM', 'SiO3qu', 'NO2uM', 'NO2q', 'NO3uM', 'NO3q', 'NH3uM',\n",
              "       'NH3q', 'C14As1', 'C14A1p', 'C14A1q', 'C14As2', 'C14A2p', 'C14A2q',\n",
              "       'DarkAs', 'DarkAp', 'DarkAq', 'MeanAs', 'MeanAp', 'MeanAq', 'IncTim',\n",
              "       'LightP', 'R_Depth', 'R_TEMP', 'R_POTEMP', 'R_SALINITY', 'R_SIGMA',\n",
              "       'R_SVA', 'R_DYNHT', 'R_O2', 'R_O2Sat', 'R_SIO3', 'R_PO4', 'R_NO3',\n",
              "       'R_NO2', 'R_NH4', 'R_CHLA', 'R_PHAEO', 'R_PRES', 'R_SAMP', 'DIC1',\n",
              "       'DIC2', 'TA1', 'TA2', 'pH2', 'pH1', 'DIC Quality Comment'],\n",
              "      dtype='object')"
            ]
          },
          "metadata": {},
          "execution_count": 24
        }
      ]
    },
    {
      "cell_type": "code",
      "source": [
        "strat_train_set = dataset_copy.iloc[train_index]\n",
        "strat_test_set = dataset_copy.iloc[test_index]"
      ],
      "metadata": {
        "id": "F1yUC3kF4SDn"
      },
      "execution_count": 25,
      "outputs": []
    },
    {
      "cell_type": "code",
      "source": [
        "print(strat_train_set.columns)\n",
        "print(strat_test_set.columns)"
      ],
      "metadata": {
        "colab": {
          "base_uri": "https://localhost:8080/"
        },
        "id": "X8VS8_8g4nV8",
        "outputId": "e8f57a9d-aabb-447b-a879-da870cd31915"
      },
      "execution_count": 26,
      "outputs": [
        {
          "output_type": "stream",
          "name": "stdout",
          "text": [
            "Index(['Cst_Cnt', 'Btl_Cnt', 'Sta_ID', 'Depth_ID', 'Depthm', 'T_degC',\n",
            "       'Salnty', 'O2ml_L', 'STheta', 'O2Sat', 'Oxy_µmol/Kg', 'BtlNum',\n",
            "       'RecInd', 'T_prec', 'T_qual', 'S_prec', 'S_qual', 'P_qual', 'O_qual',\n",
            "       'SThtaq', 'O2Satq', 'ChlorA', 'Chlqua', 'Phaeop', 'Phaqua', 'PO4uM',\n",
            "       'PO4q', 'SiO3uM', 'SiO3qu', 'NO2uM', 'NO2q', 'NO3uM', 'NO3q', 'NH3uM',\n",
            "       'NH3q', 'C14As1', 'C14A1p', 'C14A1q', 'C14As2', 'C14A2p', 'C14A2q',\n",
            "       'DarkAs', 'DarkAp', 'DarkAq', 'MeanAs', 'MeanAp', 'MeanAq', 'IncTim',\n",
            "       'LightP', 'R_Depth', 'R_TEMP', 'R_POTEMP', 'R_SALINITY', 'R_SIGMA',\n",
            "       'R_SVA', 'R_DYNHT', 'R_O2', 'R_O2Sat', 'R_SIO3', 'R_PO4', 'R_NO3',\n",
            "       'R_NO2', 'R_NH4', 'R_CHLA', 'R_PHAEO', 'R_PRES', 'R_SAMP', 'DIC1',\n",
            "       'DIC2', 'TA1', 'TA2', 'pH2', 'pH1', 'DIC Quality Comment'],\n",
            "      dtype='object')\n",
            "Index(['Cst_Cnt', 'Btl_Cnt', 'Sta_ID', 'Depth_ID', 'Depthm', 'T_degC',\n",
            "       'Salnty', 'O2ml_L', 'STheta', 'O2Sat', 'Oxy_µmol/Kg', 'BtlNum',\n",
            "       'RecInd', 'T_prec', 'T_qual', 'S_prec', 'S_qual', 'P_qual', 'O_qual',\n",
            "       'SThtaq', 'O2Satq', 'ChlorA', 'Chlqua', 'Phaeop', 'Phaqua', 'PO4uM',\n",
            "       'PO4q', 'SiO3uM', 'SiO3qu', 'NO2uM', 'NO2q', 'NO3uM', 'NO3q', 'NH3uM',\n",
            "       'NH3q', 'C14As1', 'C14A1p', 'C14A1q', 'C14As2', 'C14A2p', 'C14A2q',\n",
            "       'DarkAs', 'DarkAp', 'DarkAq', 'MeanAs', 'MeanAp', 'MeanAq', 'IncTim',\n",
            "       'LightP', 'R_Depth', 'R_TEMP', 'R_POTEMP', 'R_SALINITY', 'R_SIGMA',\n",
            "       'R_SVA', 'R_DYNHT', 'R_O2', 'R_O2Sat', 'R_SIO3', 'R_PO4', 'R_NO3',\n",
            "       'R_NO2', 'R_NH4', 'R_CHLA', 'R_PHAEO', 'R_PRES', 'R_SAMP', 'DIC1',\n",
            "       'DIC2', 'TA1', 'TA2', 'pH2', 'pH1', 'DIC Quality Comment'],\n",
            "      dtype='object')\n"
          ]
        }
      ]
    },
    {
      "cell_type": "code",
      "source": [
        "print(len(strat_train_set))\n",
        "print(len(strat_test_set))"
      ],
      "metadata": {
        "colab": {
          "base_uri": "https://localhost:8080/"
        },
        "id": "VNWyb3tD4x3L",
        "outputId": "888827e9-f18e-4c07-f48f-100becbc4a6c"
      },
      "execution_count": 27,
      "outputs": [
        {
          "output_type": "stream",
          "name": "stdout",
          "text": [
            "654007\n",
            "163502\n"
          ]
        }
      ]
    },
    {
      "cell_type": "markdown",
      "source": [
        "#Preprocessing"
      ],
      "metadata": {
        "id": "n7UYi6Bh_fa9"
      }
    },
    {
      "cell_type": "markdown",
      "source": [
        "Discard categorical columns from both train set"
      ],
      "metadata": {
        "id": "1vQ8Cwhes3NX"
      }
    },
    {
      "cell_type": "code",
      "source": [
        "#drop the categorical columns from both train set\n",
        "cat_attributes = ['Cst_Cnt', 'Btl_Cnt','Sta_ID', 'Depth_ID','IncTim', 'DIC Quality Comment']\n",
        "strat_train_set_num = strat_train_set.drop(cat_attributes, axis=1)"
      ],
      "metadata": {
        "id": "79OifPUwsv_0"
      },
      "execution_count": 28,
      "outputs": []
    },
    {
      "cell_type": "markdown",
      "source": [
        "Numerical attributes - fill with median values"
      ],
      "metadata": {
        "id": "0lPMOWZRnI48"
      }
    },
    {
      "cell_type": "code",
      "source": [
        "from sklearn.pipeline import Pipeline\n",
        "from sklearn.impute import SimpleImputer\n",
        "from sklearn.preprocessing import StandardScaler\n",
        "num_pipeline = Pipeline([\n",
        "        ('imputer', SimpleImputer(strategy=\"median\")),\n",
        "        ('std_scaler', StandardScaler()),\n",
        "    ])"
      ],
      "metadata": {
        "id": "jhT1Ie48sTqd"
      },
      "execution_count": 29,
      "outputs": []
    },
    {
      "cell_type": "markdown",
      "source": [
        "Prepare Data"
      ],
      "metadata": {
        "id": "ZAfg8L9LuOSV"
      }
    },
    {
      "cell_type": "code",
      "source": [
        "X_train = strat_train_set_num.drop(['Salnty','R_SALINITY','S_prec','S_qual'], axis=1)\n",
        "X_train.columns"
      ],
      "metadata": {
        "colab": {
          "base_uri": "https://localhost:8080/"
        },
        "id": "FmLxMQKTuJh2",
        "outputId": "72908f26-2b8a-410b-98b2-61ee1f71b744"
      },
      "execution_count": 30,
      "outputs": [
        {
          "output_type": "execute_result",
          "data": {
            "text/plain": [
              "Index(['Depthm', 'T_degC', 'O2ml_L', 'STheta', 'O2Sat', 'Oxy_µmol/Kg',\n",
              "       'BtlNum', 'RecInd', 'T_prec', 'T_qual', 'P_qual', 'O_qual', 'SThtaq',\n",
              "       'O2Satq', 'ChlorA', 'Chlqua', 'Phaeop', 'Phaqua', 'PO4uM', 'PO4q',\n",
              "       'SiO3uM', 'SiO3qu', 'NO2uM', 'NO2q', 'NO3uM', 'NO3q', 'NH3uM', 'NH3q',\n",
              "       'C14As1', 'C14A1p', 'C14A1q', 'C14As2', 'C14A2p', 'C14A2q', 'DarkAs',\n",
              "       'DarkAp', 'DarkAq', 'MeanAs', 'MeanAp', 'MeanAq', 'LightP', 'R_Depth',\n",
              "       'R_TEMP', 'R_POTEMP', 'R_SIGMA', 'R_SVA', 'R_DYNHT', 'R_O2', 'R_O2Sat',\n",
              "       'R_SIO3', 'R_PO4', 'R_NO3', 'R_NO2', 'R_NH4', 'R_CHLA', 'R_PHAEO',\n",
              "       'R_PRES', 'R_SAMP', 'DIC1', 'DIC2', 'TA1', 'TA2', 'pH2', 'pH1'],\n",
              "      dtype='object')"
            ]
          },
          "metadata": {},
          "execution_count": 30
        }
      ]
    },
    {
      "cell_type": "code",
      "source": [
        "y_train = strat_train_set_num['Salnty'].copy()"
      ],
      "metadata": {
        "id": "RvQvdTDBuiKm"
      },
      "execution_count": 31,
      "outputs": []
    },
    {
      "cell_type": "code",
      "source": [
        "strat_train_set_num.describe()"
      ],
      "metadata": {
        "colab": {
          "base_uri": "https://localhost:8080/",
          "height": 350
        },
        "id": "PZWq36KXuqC1",
        "outputId": "3d264248-8407-468f-c699-3c202815204c"
      },
      "execution_count": 32,
      "outputs": [
        {
          "output_type": "execute_result",
          "data": {
            "text/plain": [
              "              Depthm         T_degC         Salnty         O2ml_L  \\\n",
              "count  654007.000000  654007.000000  654007.000000  654007.000000   \n",
              "mean      221.409567      10.865318      33.840476       3.072849   \n",
              "std       308.553409       4.227775       0.462089       2.152705   \n",
              "min         0.000000       1.440000      28.431000      -0.010000   \n",
              "25%        45.000000       7.760000      33.488000       0.790000   \n",
              "50%       125.000000      10.120000      33.863000       2.910000   \n",
              "75%       300.000000      13.940000      34.197000       5.390000   \n",
              "max      5351.000000      31.120000      37.034000      10.690000   \n",
              "\n",
              "              STheta          O2Sat    Oxy_µmol/Kg         BtlNum  \\\n",
              "count  654007.000000  654007.000000  654007.000000  654007.000000   \n",
              "mean       25.814375      51.222557     133.734619       2.960714   \n",
              "std         1.118275      38.243543      93.846226       4.706473   \n",
              "min        20.934000      -0.100000      -0.434900       0.000000   \n",
              "25%        24.959000      11.200000      33.932750       1.000000   \n",
              "50%        25.988000      45.500000     126.623600       1.000000   \n",
              "75%        26.645000      93.900000     234.677850       1.000000   \n",
              "max       250.784000     206.000000     466.512500      25.000000   \n",
              "\n",
              "              RecInd         T_prec  ...         R_CHLA        R_PHAEO  \\\n",
              "count  654007.000000  654007.000000  ...  654007.000000  654007.000000   \n",
              "mean        4.686702       2.017789  ...       0.948414       0.433712   \n",
              "std         1.869681       0.150376  ...       2.195834       0.556046   \n",
              "min         3.000000       1.000000  ...      -0.010000      -3.890000   \n",
              "25%         3.000000       2.000000  ...       0.110000       0.090000   \n",
              "50%         3.000000       2.000000  ...       0.640000       0.470000   \n",
              "75%         7.000000       2.000000  ...       0.640000       0.470000   \n",
              "max         7.000000       3.000000  ...      55.250000      65.300000   \n",
              "\n",
              "              R_PRES         R_SAMP           DIC1           DIC2  \\\n",
              "count  654007.000000  654007.000000  654007.000000  654007.000000   \n",
              "mean      222.897448     192.259046    2036.435022    2323.121428   \n",
              "std       311.857461      43.625111      75.057047      37.266500   \n",
              "min         0.000000       0.000000    1948.850000    1969.440000   \n",
              "25%        45.000000     201.000000    2014.820000    2327.910000   \n",
              "50%       126.000000     201.000000    2014.820000    2327.910000   \n",
              "75%       302.000000     201.000000    2014.820000    2327.910000   \n",
              "max      5458.000000     424.000000    2367.800000    2364.420000   \n",
              "\n",
              "                 TA1            TA2            pH2            pH1  \n",
              "count  654007.000000  654007.000000  654007.000000  654007.000000  \n",
              "mean     2246.319701    2317.586091       7.936113       8.042688  \n",
              "std        18.949062      19.277553       0.002326       0.031419  \n",
              "min      2181.570000    2198.150000       7.923100       7.618300  \n",
              "25%      2241.570000    2317.390000       7.935900       8.047700  \n",
              "50%      2241.570000    2317.390000       7.935900       8.047700  \n",
              "75%      2241.570000    2317.390000       7.935900       8.047700  \n",
              "max      2434.900000    2437.000000       7.988300       8.047700  \n",
              "\n",
              "[8 rows x 68 columns]"
            ],
            "text/html": [
              "\n",
              "  <div id=\"df-030eb172-1e0c-4e14-be19-6c20ee290474\" class=\"colab-df-container\">\n",
              "    <div>\n",
              "<style scoped>\n",
              "    .dataframe tbody tr th:only-of-type {\n",
              "        vertical-align: middle;\n",
              "    }\n",
              "\n",
              "    .dataframe tbody tr th {\n",
              "        vertical-align: top;\n",
              "    }\n",
              "\n",
              "    .dataframe thead th {\n",
              "        text-align: right;\n",
              "    }\n",
              "</style>\n",
              "<table border=\"1\" class=\"dataframe\">\n",
              "  <thead>\n",
              "    <tr style=\"text-align: right;\">\n",
              "      <th></th>\n",
              "      <th>Depthm</th>\n",
              "      <th>T_degC</th>\n",
              "      <th>Salnty</th>\n",
              "      <th>O2ml_L</th>\n",
              "      <th>STheta</th>\n",
              "      <th>O2Sat</th>\n",
              "      <th>Oxy_µmol/Kg</th>\n",
              "      <th>BtlNum</th>\n",
              "      <th>RecInd</th>\n",
              "      <th>T_prec</th>\n",
              "      <th>...</th>\n",
              "      <th>R_CHLA</th>\n",
              "      <th>R_PHAEO</th>\n",
              "      <th>R_PRES</th>\n",
              "      <th>R_SAMP</th>\n",
              "      <th>DIC1</th>\n",
              "      <th>DIC2</th>\n",
              "      <th>TA1</th>\n",
              "      <th>TA2</th>\n",
              "      <th>pH2</th>\n",
              "      <th>pH1</th>\n",
              "    </tr>\n",
              "  </thead>\n",
              "  <tbody>\n",
              "    <tr>\n",
              "      <th>count</th>\n",
              "      <td>654007.000000</td>\n",
              "      <td>654007.000000</td>\n",
              "      <td>654007.000000</td>\n",
              "      <td>654007.000000</td>\n",
              "      <td>654007.000000</td>\n",
              "      <td>654007.000000</td>\n",
              "      <td>654007.000000</td>\n",
              "      <td>654007.000000</td>\n",
              "      <td>654007.000000</td>\n",
              "      <td>654007.000000</td>\n",
              "      <td>...</td>\n",
              "      <td>654007.000000</td>\n",
              "      <td>654007.000000</td>\n",
              "      <td>654007.000000</td>\n",
              "      <td>654007.000000</td>\n",
              "      <td>654007.000000</td>\n",
              "      <td>654007.000000</td>\n",
              "      <td>654007.000000</td>\n",
              "      <td>654007.000000</td>\n",
              "      <td>654007.000000</td>\n",
              "      <td>654007.000000</td>\n",
              "    </tr>\n",
              "    <tr>\n",
              "      <th>mean</th>\n",
              "      <td>221.409567</td>\n",
              "      <td>10.865318</td>\n",
              "      <td>33.840476</td>\n",
              "      <td>3.072849</td>\n",
              "      <td>25.814375</td>\n",
              "      <td>51.222557</td>\n",
              "      <td>133.734619</td>\n",
              "      <td>2.960714</td>\n",
              "      <td>4.686702</td>\n",
              "      <td>2.017789</td>\n",
              "      <td>...</td>\n",
              "      <td>0.948414</td>\n",
              "      <td>0.433712</td>\n",
              "      <td>222.897448</td>\n",
              "      <td>192.259046</td>\n",
              "      <td>2036.435022</td>\n",
              "      <td>2323.121428</td>\n",
              "      <td>2246.319701</td>\n",
              "      <td>2317.586091</td>\n",
              "      <td>7.936113</td>\n",
              "      <td>8.042688</td>\n",
              "    </tr>\n",
              "    <tr>\n",
              "      <th>std</th>\n",
              "      <td>308.553409</td>\n",
              "      <td>4.227775</td>\n",
              "      <td>0.462089</td>\n",
              "      <td>2.152705</td>\n",
              "      <td>1.118275</td>\n",
              "      <td>38.243543</td>\n",
              "      <td>93.846226</td>\n",
              "      <td>4.706473</td>\n",
              "      <td>1.869681</td>\n",
              "      <td>0.150376</td>\n",
              "      <td>...</td>\n",
              "      <td>2.195834</td>\n",
              "      <td>0.556046</td>\n",
              "      <td>311.857461</td>\n",
              "      <td>43.625111</td>\n",
              "      <td>75.057047</td>\n",
              "      <td>37.266500</td>\n",
              "      <td>18.949062</td>\n",
              "      <td>19.277553</td>\n",
              "      <td>0.002326</td>\n",
              "      <td>0.031419</td>\n",
              "    </tr>\n",
              "    <tr>\n",
              "      <th>min</th>\n",
              "      <td>0.000000</td>\n",
              "      <td>1.440000</td>\n",
              "      <td>28.431000</td>\n",
              "      <td>-0.010000</td>\n",
              "      <td>20.934000</td>\n",
              "      <td>-0.100000</td>\n",
              "      <td>-0.434900</td>\n",
              "      <td>0.000000</td>\n",
              "      <td>3.000000</td>\n",
              "      <td>1.000000</td>\n",
              "      <td>...</td>\n",
              "      <td>-0.010000</td>\n",
              "      <td>-3.890000</td>\n",
              "      <td>0.000000</td>\n",
              "      <td>0.000000</td>\n",
              "      <td>1948.850000</td>\n",
              "      <td>1969.440000</td>\n",
              "      <td>2181.570000</td>\n",
              "      <td>2198.150000</td>\n",
              "      <td>7.923100</td>\n",
              "      <td>7.618300</td>\n",
              "    </tr>\n",
              "    <tr>\n",
              "      <th>25%</th>\n",
              "      <td>45.000000</td>\n",
              "      <td>7.760000</td>\n",
              "      <td>33.488000</td>\n",
              "      <td>0.790000</td>\n",
              "      <td>24.959000</td>\n",
              "      <td>11.200000</td>\n",
              "      <td>33.932750</td>\n",
              "      <td>1.000000</td>\n",
              "      <td>3.000000</td>\n",
              "      <td>2.000000</td>\n",
              "      <td>...</td>\n",
              "      <td>0.110000</td>\n",
              "      <td>0.090000</td>\n",
              "      <td>45.000000</td>\n",
              "      <td>201.000000</td>\n",
              "      <td>2014.820000</td>\n",
              "      <td>2327.910000</td>\n",
              "      <td>2241.570000</td>\n",
              "      <td>2317.390000</td>\n",
              "      <td>7.935900</td>\n",
              "      <td>8.047700</td>\n",
              "    </tr>\n",
              "    <tr>\n",
              "      <th>50%</th>\n",
              "      <td>125.000000</td>\n",
              "      <td>10.120000</td>\n",
              "      <td>33.863000</td>\n",
              "      <td>2.910000</td>\n",
              "      <td>25.988000</td>\n",
              "      <td>45.500000</td>\n",
              "      <td>126.623600</td>\n",
              "      <td>1.000000</td>\n",
              "      <td>3.000000</td>\n",
              "      <td>2.000000</td>\n",
              "      <td>...</td>\n",
              "      <td>0.640000</td>\n",
              "      <td>0.470000</td>\n",
              "      <td>126.000000</td>\n",
              "      <td>201.000000</td>\n",
              "      <td>2014.820000</td>\n",
              "      <td>2327.910000</td>\n",
              "      <td>2241.570000</td>\n",
              "      <td>2317.390000</td>\n",
              "      <td>7.935900</td>\n",
              "      <td>8.047700</td>\n",
              "    </tr>\n",
              "    <tr>\n",
              "      <th>75%</th>\n",
              "      <td>300.000000</td>\n",
              "      <td>13.940000</td>\n",
              "      <td>34.197000</td>\n",
              "      <td>5.390000</td>\n",
              "      <td>26.645000</td>\n",
              "      <td>93.900000</td>\n",
              "      <td>234.677850</td>\n",
              "      <td>1.000000</td>\n",
              "      <td>7.000000</td>\n",
              "      <td>2.000000</td>\n",
              "      <td>...</td>\n",
              "      <td>0.640000</td>\n",
              "      <td>0.470000</td>\n",
              "      <td>302.000000</td>\n",
              "      <td>201.000000</td>\n",
              "      <td>2014.820000</td>\n",
              "      <td>2327.910000</td>\n",
              "      <td>2241.570000</td>\n",
              "      <td>2317.390000</td>\n",
              "      <td>7.935900</td>\n",
              "      <td>8.047700</td>\n",
              "    </tr>\n",
              "    <tr>\n",
              "      <th>max</th>\n",
              "      <td>5351.000000</td>\n",
              "      <td>31.120000</td>\n",
              "      <td>37.034000</td>\n",
              "      <td>10.690000</td>\n",
              "      <td>250.784000</td>\n",
              "      <td>206.000000</td>\n",
              "      <td>466.512500</td>\n",
              "      <td>25.000000</td>\n",
              "      <td>7.000000</td>\n",
              "      <td>3.000000</td>\n",
              "      <td>...</td>\n",
              "      <td>55.250000</td>\n",
              "      <td>65.300000</td>\n",
              "      <td>5458.000000</td>\n",
              "      <td>424.000000</td>\n",
              "      <td>2367.800000</td>\n",
              "      <td>2364.420000</td>\n",
              "      <td>2434.900000</td>\n",
              "      <td>2437.000000</td>\n",
              "      <td>7.988300</td>\n",
              "      <td>8.047700</td>\n",
              "    </tr>\n",
              "  </tbody>\n",
              "</table>\n",
              "<p>8 rows × 68 columns</p>\n",
              "</div>\n",
              "    <div class=\"colab-df-buttons\">\n",
              "\n",
              "  <div class=\"colab-df-container\">\n",
              "    <button class=\"colab-df-convert\" onclick=\"convertToInteractive('df-030eb172-1e0c-4e14-be19-6c20ee290474')\"\n",
              "            title=\"Convert this dataframe to an interactive table.\"\n",
              "            style=\"display:none;\">\n",
              "\n",
              "  <svg xmlns=\"http://www.w3.org/2000/svg\" height=\"24px\" viewBox=\"0 -960 960 960\">\n",
              "    <path d=\"M120-120v-720h720v720H120Zm60-500h600v-160H180v160Zm220 220h160v-160H400v160Zm0 220h160v-160H400v160ZM180-400h160v-160H180v160Zm440 0h160v-160H620v160ZM180-180h160v-160H180v160Zm440 0h160v-160H620v160Z\"/>\n",
              "  </svg>\n",
              "    </button>\n",
              "\n",
              "  <style>\n",
              "    .colab-df-container {\n",
              "      display:flex;\n",
              "      gap: 12px;\n",
              "    }\n",
              "\n",
              "    .colab-df-convert {\n",
              "      background-color: #E8F0FE;\n",
              "      border: none;\n",
              "      border-radius: 50%;\n",
              "      cursor: pointer;\n",
              "      display: none;\n",
              "      fill: #1967D2;\n",
              "      height: 32px;\n",
              "      padding: 0 0 0 0;\n",
              "      width: 32px;\n",
              "    }\n",
              "\n",
              "    .colab-df-convert:hover {\n",
              "      background-color: #E2EBFA;\n",
              "      box-shadow: 0px 1px 2px rgba(60, 64, 67, 0.3), 0px 1px 3px 1px rgba(60, 64, 67, 0.15);\n",
              "      fill: #174EA6;\n",
              "    }\n",
              "\n",
              "    .colab-df-buttons div {\n",
              "      margin-bottom: 4px;\n",
              "    }\n",
              "\n",
              "    [theme=dark] .colab-df-convert {\n",
              "      background-color: #3B4455;\n",
              "      fill: #D2E3FC;\n",
              "    }\n",
              "\n",
              "    [theme=dark] .colab-df-convert:hover {\n",
              "      background-color: #434B5C;\n",
              "      box-shadow: 0px 1px 3px 1px rgba(0, 0, 0, 0.15);\n",
              "      filter: drop-shadow(0px 1px 2px rgba(0, 0, 0, 0.3));\n",
              "      fill: #FFFFFF;\n",
              "    }\n",
              "  </style>\n",
              "\n",
              "    <script>\n",
              "      const buttonEl =\n",
              "        document.querySelector('#df-030eb172-1e0c-4e14-be19-6c20ee290474 button.colab-df-convert');\n",
              "      buttonEl.style.display =\n",
              "        google.colab.kernel.accessAllowed ? 'block' : 'none';\n",
              "\n",
              "      async function convertToInteractive(key) {\n",
              "        const element = document.querySelector('#df-030eb172-1e0c-4e14-be19-6c20ee290474');\n",
              "        const dataTable =\n",
              "          await google.colab.kernel.invokeFunction('convertToInteractive',\n",
              "                                                    [key], {});\n",
              "        if (!dataTable) return;\n",
              "\n",
              "        const docLinkHtml = 'Like what you see? Visit the ' +\n",
              "          '<a target=\"_blank\" href=https://colab.research.google.com/notebooks/data_table.ipynb>data table notebook</a>'\n",
              "          + ' to learn more about interactive tables.';\n",
              "        element.innerHTML = '';\n",
              "        dataTable['output_type'] = 'display_data';\n",
              "        await google.colab.output.renderOutput(dataTable, element);\n",
              "        const docLink = document.createElement('div');\n",
              "        docLink.innerHTML = docLinkHtml;\n",
              "        element.appendChild(docLink);\n",
              "      }\n",
              "    </script>\n",
              "  </div>\n",
              "\n",
              "\n",
              "<div id=\"df-05e251ed-f413-4102-a5aa-0d30349cbdb2\">\n",
              "  <button class=\"colab-df-quickchart\" onclick=\"quickchart('df-05e251ed-f413-4102-a5aa-0d30349cbdb2')\"\n",
              "            title=\"Suggest charts\"\n",
              "            style=\"display:none;\">\n",
              "\n",
              "<svg xmlns=\"http://www.w3.org/2000/svg\" height=\"24px\"viewBox=\"0 0 24 24\"\n",
              "     width=\"24px\">\n",
              "    <g>\n",
              "        <path d=\"M19 3H5c-1.1 0-2 .9-2 2v14c0 1.1.9 2 2 2h14c1.1 0 2-.9 2-2V5c0-1.1-.9-2-2-2zM9 17H7v-7h2v7zm4 0h-2V7h2v10zm4 0h-2v-4h2v4z\"/>\n",
              "    </g>\n",
              "</svg>\n",
              "  </button>\n",
              "\n",
              "<style>\n",
              "  .colab-df-quickchart {\n",
              "      --bg-color: #E8F0FE;\n",
              "      --fill-color: #1967D2;\n",
              "      --hover-bg-color: #E2EBFA;\n",
              "      --hover-fill-color: #174EA6;\n",
              "      --disabled-fill-color: #AAA;\n",
              "      --disabled-bg-color: #DDD;\n",
              "  }\n",
              "\n",
              "  [theme=dark] .colab-df-quickchart {\n",
              "      --bg-color: #3B4455;\n",
              "      --fill-color: #D2E3FC;\n",
              "      --hover-bg-color: #434B5C;\n",
              "      --hover-fill-color: #FFFFFF;\n",
              "      --disabled-bg-color: #3B4455;\n",
              "      --disabled-fill-color: #666;\n",
              "  }\n",
              "\n",
              "  .colab-df-quickchart {\n",
              "    background-color: var(--bg-color);\n",
              "    border: none;\n",
              "    border-radius: 50%;\n",
              "    cursor: pointer;\n",
              "    display: none;\n",
              "    fill: var(--fill-color);\n",
              "    height: 32px;\n",
              "    padding: 0;\n",
              "    width: 32px;\n",
              "  }\n",
              "\n",
              "  .colab-df-quickchart:hover {\n",
              "    background-color: var(--hover-bg-color);\n",
              "    box-shadow: 0 1px 2px rgba(60, 64, 67, 0.3), 0 1px 3px 1px rgba(60, 64, 67, 0.15);\n",
              "    fill: var(--button-hover-fill-color);\n",
              "  }\n",
              "\n",
              "  .colab-df-quickchart-complete:disabled,\n",
              "  .colab-df-quickchart-complete:disabled:hover {\n",
              "    background-color: var(--disabled-bg-color);\n",
              "    fill: var(--disabled-fill-color);\n",
              "    box-shadow: none;\n",
              "  }\n",
              "\n",
              "  .colab-df-spinner {\n",
              "    border: 2px solid var(--fill-color);\n",
              "    border-color: transparent;\n",
              "    border-bottom-color: var(--fill-color);\n",
              "    animation:\n",
              "      spin 1s steps(1) infinite;\n",
              "  }\n",
              "\n",
              "  @keyframes spin {\n",
              "    0% {\n",
              "      border-color: transparent;\n",
              "      border-bottom-color: var(--fill-color);\n",
              "      border-left-color: var(--fill-color);\n",
              "    }\n",
              "    20% {\n",
              "      border-color: transparent;\n",
              "      border-left-color: var(--fill-color);\n",
              "      border-top-color: var(--fill-color);\n",
              "    }\n",
              "    30% {\n",
              "      border-color: transparent;\n",
              "      border-left-color: var(--fill-color);\n",
              "      border-top-color: var(--fill-color);\n",
              "      border-right-color: var(--fill-color);\n",
              "    }\n",
              "    40% {\n",
              "      border-color: transparent;\n",
              "      border-right-color: var(--fill-color);\n",
              "      border-top-color: var(--fill-color);\n",
              "    }\n",
              "    60% {\n",
              "      border-color: transparent;\n",
              "      border-right-color: var(--fill-color);\n",
              "    }\n",
              "    80% {\n",
              "      border-color: transparent;\n",
              "      border-right-color: var(--fill-color);\n",
              "      border-bottom-color: var(--fill-color);\n",
              "    }\n",
              "    90% {\n",
              "      border-color: transparent;\n",
              "      border-bottom-color: var(--fill-color);\n",
              "    }\n",
              "  }\n",
              "</style>\n",
              "\n",
              "  <script>\n",
              "    async function quickchart(key) {\n",
              "      const quickchartButtonEl =\n",
              "        document.querySelector('#' + key + ' button');\n",
              "      quickchartButtonEl.disabled = true;  // To prevent multiple clicks.\n",
              "      quickchartButtonEl.classList.add('colab-df-spinner');\n",
              "      try {\n",
              "        const charts = await google.colab.kernel.invokeFunction(\n",
              "            'suggestCharts', [key], {});\n",
              "      } catch (error) {\n",
              "        console.error('Error during call to suggestCharts:', error);\n",
              "      }\n",
              "      quickchartButtonEl.classList.remove('colab-df-spinner');\n",
              "      quickchartButtonEl.classList.add('colab-df-quickchart-complete');\n",
              "    }\n",
              "    (() => {\n",
              "      let quickchartButtonEl =\n",
              "        document.querySelector('#df-05e251ed-f413-4102-a5aa-0d30349cbdb2 button');\n",
              "      quickchartButtonEl.style.display =\n",
              "        google.colab.kernel.accessAllowed ? 'block' : 'none';\n",
              "    })();\n",
              "  </script>\n",
              "</div>\n",
              "\n",
              "    </div>\n",
              "  </div>\n"
            ],
            "application/vnd.google.colaboratory.intrinsic+json": {
              "type": "dataframe"
            }
          },
          "metadata": {},
          "execution_count": 32
        }
      ]
    },
    {
      "cell_type": "code",
      "source": [
        "X_train = num_pipeline.fit_transform(X_train)"
      ],
      "metadata": {
        "id": "MhyJqT7kuzv2"
      },
      "execution_count": 33,
      "outputs": []
    },
    {
      "cell_type": "code",
      "source": [
        "strat_test_set_num = strat_test_set.drop(cat_attributes, axis=1)\n",
        "X_test = strat_test_set_num.drop(['Salnty','R_SALINITY','S_prec','S_qual'], axis=1)\n",
        "y_test = strat_test_set_num['Salnty'].copy()"
      ],
      "metadata": {
        "id": "9prVUrSNu5Vd"
      },
      "execution_count": 34,
      "outputs": []
    },
    {
      "cell_type": "code",
      "source": [
        "X_test"
      ],
      "metadata": {
        "colab": {
          "base_uri": "https://localhost:8080/",
          "height": 424
        },
        "id": "0xa4H3NevWRe",
        "outputId": "52c3fe34-fb42-4253-f6f5-ad0a615e00dd"
      },
      "execution_count": 35,
      "outputs": [
        {
          "output_type": "execute_result",
          "data": {
            "text/plain": [
              "        Depthm  T_degC  O2ml_L  STheta  O2Sat  Oxy_µmol/Kg  BtlNum  RecInd  \\\n",
              "360686    1300    3.28    0.83  27.499   11.2     36.07575     1.0       7   \n",
              "199217     500    4.72    1.24  26.987   17.3     53.92318     1.0       7   \n",
              "763555     200    8.44    3.19  26.413   48.4    138.79930     7.0       3   \n",
              "357633     900    3.72    0.46  27.350    6.3     19.99669     1.0       7   \n",
              "454972      50   13.13    0.91  25.486   12.3     39.55447     1.0       5   \n",
              "...        ...     ...     ...     ...    ...          ...     ...     ...   \n",
              "125971     500    6.38    0.45  26.967    6.5     19.56927     1.0       7   \n",
              "595812     210    8.88    1.85  26.450   28.4     80.49199     1.0       3   \n",
              "667439      10   15.43    5.53  24.586   97.1    241.04350     1.0       7   \n",
              "341576     200   12.48    4.64  25.641   76.9    202.04180     1.0       7   \n",
              "169336      50   10.94    0.93  25.589   12.5     40.42321     1.0       3   \n",
              "\n",
              "        T_prec  T_qual  ...  R_CHLA  R_PHAEO  R_PRES  R_SAMP     DIC1  \\\n",
              "360686     2.0     9.0  ...    0.64     0.47    1312   201.0  2014.82   \n",
              "199217     2.0     9.0  ...    0.64     0.47     504   201.0  2014.82   \n",
              "763555     2.0     8.0  ...    0.00     0.02     201   207.0  2014.82   \n",
              "357633     2.0     9.0  ...    0.64     0.47     907   201.0  2014.82   \n",
              "454972     2.0     9.0  ...    0.64     0.47      50   201.0  2014.82   \n",
              "...        ...     ...  ...     ...      ...     ...     ...      ...   \n",
              "125971     2.0     9.0  ...    0.64     0.47     503   201.0  2014.82   \n",
              "595812     2.0     9.0  ...    0.01     0.03     211   201.0  2014.82   \n",
              "667439     2.0     9.0  ...    0.96     0.37      10   201.0  2014.82   \n",
              "341576     2.0     9.0  ...    0.64     0.47     201   201.0  2014.82   \n",
              "169336     2.0     9.0  ...    0.64     0.47      50   201.0  2014.82   \n",
              "\n",
              "           DIC2      TA1      TA2     pH2     pH1  \n",
              "360686  2327.91  2241.57  2317.39  7.9359  8.0477  \n",
              "199217  2327.91  2241.57  2317.39  7.9359  8.0477  \n",
              "763555  2327.91  2241.57  2317.39  7.9359  8.0477  \n",
              "357633  2327.91  2241.57  2317.39  7.9359  8.0477  \n",
              "454972  2327.91  2241.57  2317.39  7.9359  8.0477  \n",
              "...         ...      ...      ...     ...     ...  \n",
              "125971  2327.91  2241.57  2317.39  7.9359  8.0477  \n",
              "595812  2327.91  2241.57  2317.39  7.9359  8.0477  \n",
              "667439  2327.91  2241.57  2317.39  7.9359  8.0477  \n",
              "341576  2327.91  2241.57  2317.39  7.9359  8.0477  \n",
              "169336  2327.91  2241.57  2317.39  7.9359  8.0477  \n",
              "\n",
              "[163502 rows x 64 columns]"
            ],
            "text/html": [
              "\n",
              "  <div id=\"df-3c118ac7-c3d2-412f-8dd5-c730dc204321\" class=\"colab-df-container\">\n",
              "    <div>\n",
              "<style scoped>\n",
              "    .dataframe tbody tr th:only-of-type {\n",
              "        vertical-align: middle;\n",
              "    }\n",
              "\n",
              "    .dataframe tbody tr th {\n",
              "        vertical-align: top;\n",
              "    }\n",
              "\n",
              "    .dataframe thead th {\n",
              "        text-align: right;\n",
              "    }\n",
              "</style>\n",
              "<table border=\"1\" class=\"dataframe\">\n",
              "  <thead>\n",
              "    <tr style=\"text-align: right;\">\n",
              "      <th></th>\n",
              "      <th>Depthm</th>\n",
              "      <th>T_degC</th>\n",
              "      <th>O2ml_L</th>\n",
              "      <th>STheta</th>\n",
              "      <th>O2Sat</th>\n",
              "      <th>Oxy_µmol/Kg</th>\n",
              "      <th>BtlNum</th>\n",
              "      <th>RecInd</th>\n",
              "      <th>T_prec</th>\n",
              "      <th>T_qual</th>\n",
              "      <th>...</th>\n",
              "      <th>R_CHLA</th>\n",
              "      <th>R_PHAEO</th>\n",
              "      <th>R_PRES</th>\n",
              "      <th>R_SAMP</th>\n",
              "      <th>DIC1</th>\n",
              "      <th>DIC2</th>\n",
              "      <th>TA1</th>\n",
              "      <th>TA2</th>\n",
              "      <th>pH2</th>\n",
              "      <th>pH1</th>\n",
              "    </tr>\n",
              "  </thead>\n",
              "  <tbody>\n",
              "    <tr>\n",
              "      <th>360686</th>\n",
              "      <td>1300</td>\n",
              "      <td>3.28</td>\n",
              "      <td>0.83</td>\n",
              "      <td>27.499</td>\n",
              "      <td>11.2</td>\n",
              "      <td>36.07575</td>\n",
              "      <td>1.0</td>\n",
              "      <td>7</td>\n",
              "      <td>2.0</td>\n",
              "      <td>9.0</td>\n",
              "      <td>...</td>\n",
              "      <td>0.64</td>\n",
              "      <td>0.47</td>\n",
              "      <td>1312</td>\n",
              "      <td>201.0</td>\n",
              "      <td>2014.82</td>\n",
              "      <td>2327.91</td>\n",
              "      <td>2241.57</td>\n",
              "      <td>2317.39</td>\n",
              "      <td>7.9359</td>\n",
              "      <td>8.0477</td>\n",
              "    </tr>\n",
              "    <tr>\n",
              "      <th>199217</th>\n",
              "      <td>500</td>\n",
              "      <td>4.72</td>\n",
              "      <td>1.24</td>\n",
              "      <td>26.987</td>\n",
              "      <td>17.3</td>\n",
              "      <td>53.92318</td>\n",
              "      <td>1.0</td>\n",
              "      <td>7</td>\n",
              "      <td>2.0</td>\n",
              "      <td>9.0</td>\n",
              "      <td>...</td>\n",
              "      <td>0.64</td>\n",
              "      <td>0.47</td>\n",
              "      <td>504</td>\n",
              "      <td>201.0</td>\n",
              "      <td>2014.82</td>\n",
              "      <td>2327.91</td>\n",
              "      <td>2241.57</td>\n",
              "      <td>2317.39</td>\n",
              "      <td>7.9359</td>\n",
              "      <td>8.0477</td>\n",
              "    </tr>\n",
              "    <tr>\n",
              "      <th>763555</th>\n",
              "      <td>200</td>\n",
              "      <td>8.44</td>\n",
              "      <td>3.19</td>\n",
              "      <td>26.413</td>\n",
              "      <td>48.4</td>\n",
              "      <td>138.79930</td>\n",
              "      <td>7.0</td>\n",
              "      <td>3</td>\n",
              "      <td>2.0</td>\n",
              "      <td>8.0</td>\n",
              "      <td>...</td>\n",
              "      <td>0.00</td>\n",
              "      <td>0.02</td>\n",
              "      <td>201</td>\n",
              "      <td>207.0</td>\n",
              "      <td>2014.82</td>\n",
              "      <td>2327.91</td>\n",
              "      <td>2241.57</td>\n",
              "      <td>2317.39</td>\n",
              "      <td>7.9359</td>\n",
              "      <td>8.0477</td>\n",
              "    </tr>\n",
              "    <tr>\n",
              "      <th>357633</th>\n",
              "      <td>900</td>\n",
              "      <td>3.72</td>\n",
              "      <td>0.46</td>\n",
              "      <td>27.350</td>\n",
              "      <td>6.3</td>\n",
              "      <td>19.99669</td>\n",
              "      <td>1.0</td>\n",
              "      <td>7</td>\n",
              "      <td>2.0</td>\n",
              "      <td>9.0</td>\n",
              "      <td>...</td>\n",
              "      <td>0.64</td>\n",
              "      <td>0.47</td>\n",
              "      <td>907</td>\n",
              "      <td>201.0</td>\n",
              "      <td>2014.82</td>\n",
              "      <td>2327.91</td>\n",
              "      <td>2241.57</td>\n",
              "      <td>2317.39</td>\n",
              "      <td>7.9359</td>\n",
              "      <td>8.0477</td>\n",
              "    </tr>\n",
              "    <tr>\n",
              "      <th>454972</th>\n",
              "      <td>50</td>\n",
              "      <td>13.13</td>\n",
              "      <td>0.91</td>\n",
              "      <td>25.486</td>\n",
              "      <td>12.3</td>\n",
              "      <td>39.55447</td>\n",
              "      <td>1.0</td>\n",
              "      <td>5</td>\n",
              "      <td>2.0</td>\n",
              "      <td>9.0</td>\n",
              "      <td>...</td>\n",
              "      <td>0.64</td>\n",
              "      <td>0.47</td>\n",
              "      <td>50</td>\n",
              "      <td>201.0</td>\n",
              "      <td>2014.82</td>\n",
              "      <td>2327.91</td>\n",
              "      <td>2241.57</td>\n",
              "      <td>2317.39</td>\n",
              "      <td>7.9359</td>\n",
              "      <td>8.0477</td>\n",
              "    </tr>\n",
              "    <tr>\n",
              "      <th>...</th>\n",
              "      <td>...</td>\n",
              "      <td>...</td>\n",
              "      <td>...</td>\n",
              "      <td>...</td>\n",
              "      <td>...</td>\n",
              "      <td>...</td>\n",
              "      <td>...</td>\n",
              "      <td>...</td>\n",
              "      <td>...</td>\n",
              "      <td>...</td>\n",
              "      <td>...</td>\n",
              "      <td>...</td>\n",
              "      <td>...</td>\n",
              "      <td>...</td>\n",
              "      <td>...</td>\n",
              "      <td>...</td>\n",
              "      <td>...</td>\n",
              "      <td>...</td>\n",
              "      <td>...</td>\n",
              "      <td>...</td>\n",
              "      <td>...</td>\n",
              "    </tr>\n",
              "    <tr>\n",
              "      <th>125971</th>\n",
              "      <td>500</td>\n",
              "      <td>6.38</td>\n",
              "      <td>0.45</td>\n",
              "      <td>26.967</td>\n",
              "      <td>6.5</td>\n",
              "      <td>19.56927</td>\n",
              "      <td>1.0</td>\n",
              "      <td>7</td>\n",
              "      <td>2.0</td>\n",
              "      <td>9.0</td>\n",
              "      <td>...</td>\n",
              "      <td>0.64</td>\n",
              "      <td>0.47</td>\n",
              "      <td>503</td>\n",
              "      <td>201.0</td>\n",
              "      <td>2014.82</td>\n",
              "      <td>2327.91</td>\n",
              "      <td>2241.57</td>\n",
              "      <td>2317.39</td>\n",
              "      <td>7.9359</td>\n",
              "      <td>8.0477</td>\n",
              "    </tr>\n",
              "    <tr>\n",
              "      <th>595812</th>\n",
              "      <td>210</td>\n",
              "      <td>8.88</td>\n",
              "      <td>1.85</td>\n",
              "      <td>26.450</td>\n",
              "      <td>28.4</td>\n",
              "      <td>80.49199</td>\n",
              "      <td>1.0</td>\n",
              "      <td>3</td>\n",
              "      <td>2.0</td>\n",
              "      <td>9.0</td>\n",
              "      <td>...</td>\n",
              "      <td>0.01</td>\n",
              "      <td>0.03</td>\n",
              "      <td>211</td>\n",
              "      <td>201.0</td>\n",
              "      <td>2014.82</td>\n",
              "      <td>2327.91</td>\n",
              "      <td>2241.57</td>\n",
              "      <td>2317.39</td>\n",
              "      <td>7.9359</td>\n",
              "      <td>8.0477</td>\n",
              "    </tr>\n",
              "    <tr>\n",
              "      <th>667439</th>\n",
              "      <td>10</td>\n",
              "      <td>15.43</td>\n",
              "      <td>5.53</td>\n",
              "      <td>24.586</td>\n",
              "      <td>97.1</td>\n",
              "      <td>241.04350</td>\n",
              "      <td>1.0</td>\n",
              "      <td>7</td>\n",
              "      <td>2.0</td>\n",
              "      <td>9.0</td>\n",
              "      <td>...</td>\n",
              "      <td>0.96</td>\n",
              "      <td>0.37</td>\n",
              "      <td>10</td>\n",
              "      <td>201.0</td>\n",
              "      <td>2014.82</td>\n",
              "      <td>2327.91</td>\n",
              "      <td>2241.57</td>\n",
              "      <td>2317.39</td>\n",
              "      <td>7.9359</td>\n",
              "      <td>8.0477</td>\n",
              "    </tr>\n",
              "    <tr>\n",
              "      <th>341576</th>\n",
              "      <td>200</td>\n",
              "      <td>12.48</td>\n",
              "      <td>4.64</td>\n",
              "      <td>25.641</td>\n",
              "      <td>76.9</td>\n",
              "      <td>202.04180</td>\n",
              "      <td>1.0</td>\n",
              "      <td>7</td>\n",
              "      <td>2.0</td>\n",
              "      <td>9.0</td>\n",
              "      <td>...</td>\n",
              "      <td>0.64</td>\n",
              "      <td>0.47</td>\n",
              "      <td>201</td>\n",
              "      <td>201.0</td>\n",
              "      <td>2014.82</td>\n",
              "      <td>2327.91</td>\n",
              "      <td>2241.57</td>\n",
              "      <td>2317.39</td>\n",
              "      <td>7.9359</td>\n",
              "      <td>8.0477</td>\n",
              "    </tr>\n",
              "    <tr>\n",
              "      <th>169336</th>\n",
              "      <td>50</td>\n",
              "      <td>10.94</td>\n",
              "      <td>0.93</td>\n",
              "      <td>25.589</td>\n",
              "      <td>12.5</td>\n",
              "      <td>40.42321</td>\n",
              "      <td>1.0</td>\n",
              "      <td>3</td>\n",
              "      <td>2.0</td>\n",
              "      <td>9.0</td>\n",
              "      <td>...</td>\n",
              "      <td>0.64</td>\n",
              "      <td>0.47</td>\n",
              "      <td>50</td>\n",
              "      <td>201.0</td>\n",
              "      <td>2014.82</td>\n",
              "      <td>2327.91</td>\n",
              "      <td>2241.57</td>\n",
              "      <td>2317.39</td>\n",
              "      <td>7.9359</td>\n",
              "      <td>8.0477</td>\n",
              "    </tr>\n",
              "  </tbody>\n",
              "</table>\n",
              "<p>163502 rows × 64 columns</p>\n",
              "</div>\n",
              "    <div class=\"colab-df-buttons\">\n",
              "\n",
              "  <div class=\"colab-df-container\">\n",
              "    <button class=\"colab-df-convert\" onclick=\"convertToInteractive('df-3c118ac7-c3d2-412f-8dd5-c730dc204321')\"\n",
              "            title=\"Convert this dataframe to an interactive table.\"\n",
              "            style=\"display:none;\">\n",
              "\n",
              "  <svg xmlns=\"http://www.w3.org/2000/svg\" height=\"24px\" viewBox=\"0 -960 960 960\">\n",
              "    <path d=\"M120-120v-720h720v720H120Zm60-500h600v-160H180v160Zm220 220h160v-160H400v160Zm0 220h160v-160H400v160ZM180-400h160v-160H180v160Zm440 0h160v-160H620v160ZM180-180h160v-160H180v160Zm440 0h160v-160H620v160Z\"/>\n",
              "  </svg>\n",
              "    </button>\n",
              "\n",
              "  <style>\n",
              "    .colab-df-container {\n",
              "      display:flex;\n",
              "      gap: 12px;\n",
              "    }\n",
              "\n",
              "    .colab-df-convert {\n",
              "      background-color: #E8F0FE;\n",
              "      border: none;\n",
              "      border-radius: 50%;\n",
              "      cursor: pointer;\n",
              "      display: none;\n",
              "      fill: #1967D2;\n",
              "      height: 32px;\n",
              "      padding: 0 0 0 0;\n",
              "      width: 32px;\n",
              "    }\n",
              "\n",
              "    .colab-df-convert:hover {\n",
              "      background-color: #E2EBFA;\n",
              "      box-shadow: 0px 1px 2px rgba(60, 64, 67, 0.3), 0px 1px 3px 1px rgba(60, 64, 67, 0.15);\n",
              "      fill: #174EA6;\n",
              "    }\n",
              "\n",
              "    .colab-df-buttons div {\n",
              "      margin-bottom: 4px;\n",
              "    }\n",
              "\n",
              "    [theme=dark] .colab-df-convert {\n",
              "      background-color: #3B4455;\n",
              "      fill: #D2E3FC;\n",
              "    }\n",
              "\n",
              "    [theme=dark] .colab-df-convert:hover {\n",
              "      background-color: #434B5C;\n",
              "      box-shadow: 0px 1px 3px 1px rgba(0, 0, 0, 0.15);\n",
              "      filter: drop-shadow(0px 1px 2px rgba(0, 0, 0, 0.3));\n",
              "      fill: #FFFFFF;\n",
              "    }\n",
              "  </style>\n",
              "\n",
              "    <script>\n",
              "      const buttonEl =\n",
              "        document.querySelector('#df-3c118ac7-c3d2-412f-8dd5-c730dc204321 button.colab-df-convert');\n",
              "      buttonEl.style.display =\n",
              "        google.colab.kernel.accessAllowed ? 'block' : 'none';\n",
              "\n",
              "      async function convertToInteractive(key) {\n",
              "        const element = document.querySelector('#df-3c118ac7-c3d2-412f-8dd5-c730dc204321');\n",
              "        const dataTable =\n",
              "          await google.colab.kernel.invokeFunction('convertToInteractive',\n",
              "                                                    [key], {});\n",
              "        if (!dataTable) return;\n",
              "\n",
              "        const docLinkHtml = 'Like what you see? Visit the ' +\n",
              "          '<a target=\"_blank\" href=https://colab.research.google.com/notebooks/data_table.ipynb>data table notebook</a>'\n",
              "          + ' to learn more about interactive tables.';\n",
              "        element.innerHTML = '';\n",
              "        dataTable['output_type'] = 'display_data';\n",
              "        await google.colab.output.renderOutput(dataTable, element);\n",
              "        const docLink = document.createElement('div');\n",
              "        docLink.innerHTML = docLinkHtml;\n",
              "        element.appendChild(docLink);\n",
              "      }\n",
              "    </script>\n",
              "  </div>\n",
              "\n",
              "\n",
              "<div id=\"df-01b3c1c9-4d14-42c0-9ef1-c7f4ea6e35d7\">\n",
              "  <button class=\"colab-df-quickchart\" onclick=\"quickchart('df-01b3c1c9-4d14-42c0-9ef1-c7f4ea6e35d7')\"\n",
              "            title=\"Suggest charts\"\n",
              "            style=\"display:none;\">\n",
              "\n",
              "<svg xmlns=\"http://www.w3.org/2000/svg\" height=\"24px\"viewBox=\"0 0 24 24\"\n",
              "     width=\"24px\">\n",
              "    <g>\n",
              "        <path d=\"M19 3H5c-1.1 0-2 .9-2 2v14c0 1.1.9 2 2 2h14c1.1 0 2-.9 2-2V5c0-1.1-.9-2-2-2zM9 17H7v-7h2v7zm4 0h-2V7h2v10zm4 0h-2v-4h2v4z\"/>\n",
              "    </g>\n",
              "</svg>\n",
              "  </button>\n",
              "\n",
              "<style>\n",
              "  .colab-df-quickchart {\n",
              "      --bg-color: #E8F0FE;\n",
              "      --fill-color: #1967D2;\n",
              "      --hover-bg-color: #E2EBFA;\n",
              "      --hover-fill-color: #174EA6;\n",
              "      --disabled-fill-color: #AAA;\n",
              "      --disabled-bg-color: #DDD;\n",
              "  }\n",
              "\n",
              "  [theme=dark] .colab-df-quickchart {\n",
              "      --bg-color: #3B4455;\n",
              "      --fill-color: #D2E3FC;\n",
              "      --hover-bg-color: #434B5C;\n",
              "      --hover-fill-color: #FFFFFF;\n",
              "      --disabled-bg-color: #3B4455;\n",
              "      --disabled-fill-color: #666;\n",
              "  }\n",
              "\n",
              "  .colab-df-quickchart {\n",
              "    background-color: var(--bg-color);\n",
              "    border: none;\n",
              "    border-radius: 50%;\n",
              "    cursor: pointer;\n",
              "    display: none;\n",
              "    fill: var(--fill-color);\n",
              "    height: 32px;\n",
              "    padding: 0;\n",
              "    width: 32px;\n",
              "  }\n",
              "\n",
              "  .colab-df-quickchart:hover {\n",
              "    background-color: var(--hover-bg-color);\n",
              "    box-shadow: 0 1px 2px rgba(60, 64, 67, 0.3), 0 1px 3px 1px rgba(60, 64, 67, 0.15);\n",
              "    fill: var(--button-hover-fill-color);\n",
              "  }\n",
              "\n",
              "  .colab-df-quickchart-complete:disabled,\n",
              "  .colab-df-quickchart-complete:disabled:hover {\n",
              "    background-color: var(--disabled-bg-color);\n",
              "    fill: var(--disabled-fill-color);\n",
              "    box-shadow: none;\n",
              "  }\n",
              "\n",
              "  .colab-df-spinner {\n",
              "    border: 2px solid var(--fill-color);\n",
              "    border-color: transparent;\n",
              "    border-bottom-color: var(--fill-color);\n",
              "    animation:\n",
              "      spin 1s steps(1) infinite;\n",
              "  }\n",
              "\n",
              "  @keyframes spin {\n",
              "    0% {\n",
              "      border-color: transparent;\n",
              "      border-bottom-color: var(--fill-color);\n",
              "      border-left-color: var(--fill-color);\n",
              "    }\n",
              "    20% {\n",
              "      border-color: transparent;\n",
              "      border-left-color: var(--fill-color);\n",
              "      border-top-color: var(--fill-color);\n",
              "    }\n",
              "    30% {\n",
              "      border-color: transparent;\n",
              "      border-left-color: var(--fill-color);\n",
              "      border-top-color: var(--fill-color);\n",
              "      border-right-color: var(--fill-color);\n",
              "    }\n",
              "    40% {\n",
              "      border-color: transparent;\n",
              "      border-right-color: var(--fill-color);\n",
              "      border-top-color: var(--fill-color);\n",
              "    }\n",
              "    60% {\n",
              "      border-color: transparent;\n",
              "      border-right-color: var(--fill-color);\n",
              "    }\n",
              "    80% {\n",
              "      border-color: transparent;\n",
              "      border-right-color: var(--fill-color);\n",
              "      border-bottom-color: var(--fill-color);\n",
              "    }\n",
              "    90% {\n",
              "      border-color: transparent;\n",
              "      border-bottom-color: var(--fill-color);\n",
              "    }\n",
              "  }\n",
              "</style>\n",
              "\n",
              "  <script>\n",
              "    async function quickchart(key) {\n",
              "      const quickchartButtonEl =\n",
              "        document.querySelector('#' + key + ' button');\n",
              "      quickchartButtonEl.disabled = true;  // To prevent multiple clicks.\n",
              "      quickchartButtonEl.classList.add('colab-df-spinner');\n",
              "      try {\n",
              "        const charts = await google.colab.kernel.invokeFunction(\n",
              "            'suggestCharts', [key], {});\n",
              "      } catch (error) {\n",
              "        console.error('Error during call to suggestCharts:', error);\n",
              "      }\n",
              "      quickchartButtonEl.classList.remove('colab-df-spinner');\n",
              "      quickchartButtonEl.classList.add('colab-df-quickchart-complete');\n",
              "    }\n",
              "    (() => {\n",
              "      let quickchartButtonEl =\n",
              "        document.querySelector('#df-01b3c1c9-4d14-42c0-9ef1-c7f4ea6e35d7 button');\n",
              "      quickchartButtonEl.style.display =\n",
              "        google.colab.kernel.accessAllowed ? 'block' : 'none';\n",
              "    })();\n",
              "  </script>\n",
              "</div>\n",
              "\n",
              "  <div id=\"id_b0ace445-d467-456b-8915-311fcfd0f7be\">\n",
              "    <style>\n",
              "      .colab-df-generate {\n",
              "        background-color: #E8F0FE;\n",
              "        border: none;\n",
              "        border-radius: 50%;\n",
              "        cursor: pointer;\n",
              "        display: none;\n",
              "        fill: #1967D2;\n",
              "        height: 32px;\n",
              "        padding: 0 0 0 0;\n",
              "        width: 32px;\n",
              "      }\n",
              "\n",
              "      .colab-df-generate:hover {\n",
              "        background-color: #E2EBFA;\n",
              "        box-shadow: 0px 1px 2px rgba(60, 64, 67, 0.3), 0px 1px 3px 1px rgba(60, 64, 67, 0.15);\n",
              "        fill: #174EA6;\n",
              "      }\n",
              "\n",
              "      [theme=dark] .colab-df-generate {\n",
              "        background-color: #3B4455;\n",
              "        fill: #D2E3FC;\n",
              "      }\n",
              "\n",
              "      [theme=dark] .colab-df-generate:hover {\n",
              "        background-color: #434B5C;\n",
              "        box-shadow: 0px 1px 3px 1px rgba(0, 0, 0, 0.15);\n",
              "        filter: drop-shadow(0px 1px 2px rgba(0, 0, 0, 0.3));\n",
              "        fill: #FFFFFF;\n",
              "      }\n",
              "    </style>\n",
              "    <button class=\"colab-df-generate\" onclick=\"generateWithVariable('X_test')\"\n",
              "            title=\"Generate code using this dataframe.\"\n",
              "            style=\"display:none;\">\n",
              "\n",
              "  <svg xmlns=\"http://www.w3.org/2000/svg\" height=\"24px\"viewBox=\"0 0 24 24\"\n",
              "       width=\"24px\">\n",
              "    <path d=\"M7,19H8.4L18.45,9,17,7.55,7,17.6ZM5,21V16.75L18.45,3.32a2,2,0,0,1,2.83,0l1.4,1.43a1.91,1.91,0,0,1,.58,1.4,1.91,1.91,0,0,1-.58,1.4L9.25,21ZM18.45,9,17,7.55Zm-12,3A5.31,5.31,0,0,0,4.9,8.1,5.31,5.31,0,0,0,1,6.5,5.31,5.31,0,0,0,4.9,4.9,5.31,5.31,0,0,0,6.5,1,5.31,5.31,0,0,0,8.1,4.9,5.31,5.31,0,0,0,12,6.5,5.46,5.46,0,0,0,6.5,12Z\"/>\n",
              "  </svg>\n",
              "    </button>\n",
              "    <script>\n",
              "      (() => {\n",
              "      const buttonEl =\n",
              "        document.querySelector('#id_b0ace445-d467-456b-8915-311fcfd0f7be button.colab-df-generate');\n",
              "      buttonEl.style.display =\n",
              "        google.colab.kernel.accessAllowed ? 'block' : 'none';\n",
              "\n",
              "      buttonEl.onclick = () => {\n",
              "        google.colab.notebook.generateWithVariable('X_test');\n",
              "      }\n",
              "      })();\n",
              "    </script>\n",
              "  </div>\n",
              "\n",
              "    </div>\n",
              "  </div>\n"
            ],
            "application/vnd.google.colaboratory.intrinsic+json": {
              "type": "dataframe",
              "variable_name": "X_test"
            }
          },
          "metadata": {},
          "execution_count": 35
        }
      ]
    },
    {
      "cell_type": "code",
      "source": [],
      "metadata": {
        "id": "EugVKX_g2pP3"
      },
      "execution_count": null,
      "outputs": []
    },
    {
      "cell_type": "code",
      "source": [
        "X_test = num_pipeline.transform(X_test)"
      ],
      "metadata": {
        "id": "KzhdqqNjvZxd"
      },
      "execution_count": 36,
      "outputs": []
    },
    {
      "cell_type": "code",
      "source": [
        "X_test"
      ],
      "metadata": {
        "colab": {
          "base_uri": "https://localhost:8080/"
        },
        "id": "IFa_VXmJvi2O",
        "outputId": "51736556-42b3-4eb1-82ea-56a95751aae6"
      },
      "execution_count": 37,
      "outputs": [
        {
          "output_type": "execute_result",
          "data": {
            "text/plain": [
              "array([[ 3.49563876, -1.7941643 , -1.04187541, ..., -0.010172  ,\n",
              "        -0.09173782,  0.15953575],\n",
              "       [ 0.90289278, -1.45355937, -0.85141724, ..., -0.010172  ,\n",
              "        -0.09173782,  0.15953575],\n",
              "       [-0.06938696, -0.5736633 ,  0.05442041, ..., -0.010172  ,\n",
              "        -0.09173782,  0.15953575],\n",
              "       ...,\n",
              "       [-0.68516413,  1.0796898 ,  1.14142558, ..., -0.010172  ,\n",
              "        -0.09173782,  0.15953575],\n",
              "       [-0.06938696,  0.38192275,  0.72799199, ..., -0.010172  ,\n",
              "        -0.09173782,  0.15953575],\n",
              "       [-0.55552683,  0.0176647 , -0.9954222 , ..., -0.010172  ,\n",
              "        -0.09173782,  0.15953575]])"
            ]
          },
          "metadata": {},
          "execution_count": 37
        }
      ]
    },
    {
      "cell_type": "markdown",
      "source": [
        "#Learning the Models"
      ],
      "metadata": {
        "id": "LyboSjLrvx4g"
      }
    },
    {
      "cell_type": "markdown",
      "source": [
        "Multilinear regression"
      ],
      "metadata": {
        "id": "l84dVpkGmBKS"
      }
    },
    {
      "cell_type": "code",
      "source": [
        "from sklearn.linear_model import LinearRegression\n",
        "lin_regr = LinearRegression()\n",
        "lin_regr.fit(X_train, y_train)"
      ],
      "metadata": {
        "colab": {
          "base_uri": "https://localhost:8080/",
          "height": 75
        },
        "id": "V-6GpYgqvpIP",
        "outputId": "5e39ea5e-0857-419c-f15d-e0784e5f0aea"
      },
      "execution_count": 38,
      "outputs": [
        {
          "output_type": "execute_result",
          "data": {
            "text/plain": [
              "LinearRegression()"
            ],
            "text/html": [
              "<style>#sk-container-id-1 {color: black;background-color: white;}#sk-container-id-1 pre{padding: 0;}#sk-container-id-1 div.sk-toggleable {background-color: white;}#sk-container-id-1 label.sk-toggleable__label {cursor: pointer;display: block;width: 100%;margin-bottom: 0;padding: 0.3em;box-sizing: border-box;text-align: center;}#sk-container-id-1 label.sk-toggleable__label-arrow:before {content: \"▸\";float: left;margin-right: 0.25em;color: #696969;}#sk-container-id-1 label.sk-toggleable__label-arrow:hover:before {color: black;}#sk-container-id-1 div.sk-estimator:hover label.sk-toggleable__label-arrow:before {color: black;}#sk-container-id-1 div.sk-toggleable__content {max-height: 0;max-width: 0;overflow: hidden;text-align: left;background-color: #f0f8ff;}#sk-container-id-1 div.sk-toggleable__content pre {margin: 0.2em;color: black;border-radius: 0.25em;background-color: #f0f8ff;}#sk-container-id-1 input.sk-toggleable__control:checked~div.sk-toggleable__content {max-height: 200px;max-width: 100%;overflow: auto;}#sk-container-id-1 input.sk-toggleable__control:checked~label.sk-toggleable__label-arrow:before {content: \"▾\";}#sk-container-id-1 div.sk-estimator input.sk-toggleable__control:checked~label.sk-toggleable__label {background-color: #d4ebff;}#sk-container-id-1 div.sk-label input.sk-toggleable__control:checked~label.sk-toggleable__label {background-color: #d4ebff;}#sk-container-id-1 input.sk-hidden--visually {border: 0;clip: rect(1px 1px 1px 1px);clip: rect(1px, 1px, 1px, 1px);height: 1px;margin: -1px;overflow: hidden;padding: 0;position: absolute;width: 1px;}#sk-container-id-1 div.sk-estimator {font-family: monospace;background-color: #f0f8ff;border: 1px dotted black;border-radius: 0.25em;box-sizing: border-box;margin-bottom: 0.5em;}#sk-container-id-1 div.sk-estimator:hover {background-color: #d4ebff;}#sk-container-id-1 div.sk-parallel-item::after {content: \"\";width: 100%;border-bottom: 1px solid gray;flex-grow: 1;}#sk-container-id-1 div.sk-label:hover label.sk-toggleable__label {background-color: #d4ebff;}#sk-container-id-1 div.sk-serial::before {content: \"\";position: absolute;border-left: 1px solid gray;box-sizing: border-box;top: 0;bottom: 0;left: 50%;z-index: 0;}#sk-container-id-1 div.sk-serial {display: flex;flex-direction: column;align-items: center;background-color: white;padding-right: 0.2em;padding-left: 0.2em;position: relative;}#sk-container-id-1 div.sk-item {position: relative;z-index: 1;}#sk-container-id-1 div.sk-parallel {display: flex;align-items: stretch;justify-content: center;background-color: white;position: relative;}#sk-container-id-1 div.sk-item::before, #sk-container-id-1 div.sk-parallel-item::before {content: \"\";position: absolute;border-left: 1px solid gray;box-sizing: border-box;top: 0;bottom: 0;left: 50%;z-index: -1;}#sk-container-id-1 div.sk-parallel-item {display: flex;flex-direction: column;z-index: 1;position: relative;background-color: white;}#sk-container-id-1 div.sk-parallel-item:first-child::after {align-self: flex-end;width: 50%;}#sk-container-id-1 div.sk-parallel-item:last-child::after {align-self: flex-start;width: 50%;}#sk-container-id-1 div.sk-parallel-item:only-child::after {width: 0;}#sk-container-id-1 div.sk-dashed-wrapped {border: 1px dashed gray;margin: 0 0.4em 0.5em 0.4em;box-sizing: border-box;padding-bottom: 0.4em;background-color: white;}#sk-container-id-1 div.sk-label label {font-family: monospace;font-weight: bold;display: inline-block;line-height: 1.2em;}#sk-container-id-1 div.sk-label-container {text-align: center;}#sk-container-id-1 div.sk-container {/* jupyter's `normalize.less` sets `[hidden] { display: none; }` but bootstrap.min.css set `[hidden] { display: none !important; }` so we also need the `!important` here to be able to override the default hidden behavior on the sphinx rendered scikit-learn.org. See: https://github.com/scikit-learn/scikit-learn/issues/21755 */display: inline-block !important;position: relative;}#sk-container-id-1 div.sk-text-repr-fallback {display: none;}</style><div id=\"sk-container-id-1\" class=\"sk-top-container\"><div class=\"sk-text-repr-fallback\"><pre>LinearRegression()</pre><b>In a Jupyter environment, please rerun this cell to show the HTML representation or trust the notebook. <br />On GitHub, the HTML representation is unable to render, please try loading this page with nbviewer.org.</b></div><div class=\"sk-container\" hidden><div class=\"sk-item\"><div class=\"sk-estimator sk-toggleable\"><input class=\"sk-toggleable__control sk-hidden--visually\" id=\"sk-estimator-id-1\" type=\"checkbox\" checked><label for=\"sk-estimator-id-1\" class=\"sk-toggleable__label sk-toggleable__label-arrow\">LinearRegression</label><div class=\"sk-toggleable__content\"><pre>LinearRegression()</pre></div></div></div></div></div>"
            ]
          },
          "metadata": {},
          "execution_count": 38
        }
      ]
    },
    {
      "cell_type": "code",
      "source": [
        "from sklearn.metrics import mean_squared_error"
      ],
      "metadata": {
        "id": "FZwVTY7Hy88-"
      },
      "execution_count": 39,
      "outputs": []
    },
    {
      "cell_type": "markdown",
      "source": [
        "Evaluation on training Data"
      ],
      "metadata": {
        "id": "sj3GyAXPlcXd"
      }
    },
    {
      "cell_type": "code",
      "source": [
        "lin_y_pred = lin_regr.predict(X_train)\n",
        "lin_mse = mean_squared_error(y_train, lin_y_pred)\n",
        "lin_rmse = np.sqrt(lin_mse)\n",
        "print(lin_rmse)"
      ],
      "metadata": {
        "id": "bmHAFf_AzDv9",
        "colab": {
          "base_uri": "https://localhost:8080/"
        },
        "outputId": "2355fbc8-c453-49bc-dabe-c70e90f0953b"
      },
      "execution_count": 40,
      "outputs": [
        {
          "output_type": "stream",
          "name": "stdout",
          "text": [
            "0.08106351501488976\n"
          ]
        }
      ]
    },
    {
      "cell_type": "markdown",
      "source": [
        "TRAINING TIME TOO MUCH.   ---Linear SVM---"
      ],
      "metadata": {
        "id": "VD2x96V3lf-8"
      }
    },
    {
      "cell_type": "code",
      "source": [
        "from sklearn.svm import SVR\n",
        "svm_regr = SVR(kernel = 'linear')\n",
        "svm_regr.fit(X_train, y_train)"
      ],
      "metadata": {
        "id": "Nb44GxVyxS-F"
      },
      "execution_count": null,
      "outputs": []
    },
    {
      "cell_type": "code",
      "source": [
        "svm_lin_y_pred = svm_regr.predict(X_train)\n",
        "svm_lin_mse = mean_squared_error(y_train, svm_lin_y_pred)\n",
        "svm_lin_rmse = np.sqrt(svm_lin_mse)\n",
        "print(svm_lin_rmse)"
      ],
      "metadata": {
        "id": "gTAjAgJH4HzW"
      },
      "execution_count": null,
      "outputs": []
    },
    {
      "cell_type": "markdown",
      "source": [
        "Random Forest"
      ],
      "metadata": {
        "id": "CMM3VsdDloq1"
      }
    },
    {
      "cell_type": "code",
      "source": [
        "from sklearn.ensemble import RandomForestRegressor\n",
        "forest_regr = RandomForestRegressor(n_estimators=100, random_state=42)\n",
        "forest_regr.fit(X_train, y_train)"
      ],
      "metadata": {
        "id": "SLimbkue4ZuY",
        "colab": {
          "base_uri": "https://localhost:8080/",
          "height": 75
        },
        "outputId": "a0d41a3e-a0c1-4032-da39-48f4af2e54b2"
      },
      "execution_count": 41,
      "outputs": [
        {
          "output_type": "execute_result",
          "data": {
            "text/plain": [
              "RandomForestRegressor(random_state=42)"
            ],
            "text/html": [
              "<style>#sk-container-id-2 {color: black;background-color: white;}#sk-container-id-2 pre{padding: 0;}#sk-container-id-2 div.sk-toggleable {background-color: white;}#sk-container-id-2 label.sk-toggleable__label {cursor: pointer;display: block;width: 100%;margin-bottom: 0;padding: 0.3em;box-sizing: border-box;text-align: center;}#sk-container-id-2 label.sk-toggleable__label-arrow:before {content: \"▸\";float: left;margin-right: 0.25em;color: #696969;}#sk-container-id-2 label.sk-toggleable__label-arrow:hover:before {color: black;}#sk-container-id-2 div.sk-estimator:hover label.sk-toggleable__label-arrow:before {color: black;}#sk-container-id-2 div.sk-toggleable__content {max-height: 0;max-width: 0;overflow: hidden;text-align: left;background-color: #f0f8ff;}#sk-container-id-2 div.sk-toggleable__content pre {margin: 0.2em;color: black;border-radius: 0.25em;background-color: #f0f8ff;}#sk-container-id-2 input.sk-toggleable__control:checked~div.sk-toggleable__content {max-height: 200px;max-width: 100%;overflow: auto;}#sk-container-id-2 input.sk-toggleable__control:checked~label.sk-toggleable__label-arrow:before {content: \"▾\";}#sk-container-id-2 div.sk-estimator input.sk-toggleable__control:checked~label.sk-toggleable__label {background-color: #d4ebff;}#sk-container-id-2 div.sk-label input.sk-toggleable__control:checked~label.sk-toggleable__label {background-color: #d4ebff;}#sk-container-id-2 input.sk-hidden--visually {border: 0;clip: rect(1px 1px 1px 1px);clip: rect(1px, 1px, 1px, 1px);height: 1px;margin: -1px;overflow: hidden;padding: 0;position: absolute;width: 1px;}#sk-container-id-2 div.sk-estimator {font-family: monospace;background-color: #f0f8ff;border: 1px dotted black;border-radius: 0.25em;box-sizing: border-box;margin-bottom: 0.5em;}#sk-container-id-2 div.sk-estimator:hover {background-color: #d4ebff;}#sk-container-id-2 div.sk-parallel-item::after {content: \"\";width: 100%;border-bottom: 1px solid gray;flex-grow: 1;}#sk-container-id-2 div.sk-label:hover label.sk-toggleable__label {background-color: #d4ebff;}#sk-container-id-2 div.sk-serial::before {content: \"\";position: absolute;border-left: 1px solid gray;box-sizing: border-box;top: 0;bottom: 0;left: 50%;z-index: 0;}#sk-container-id-2 div.sk-serial {display: flex;flex-direction: column;align-items: center;background-color: white;padding-right: 0.2em;padding-left: 0.2em;position: relative;}#sk-container-id-2 div.sk-item {position: relative;z-index: 1;}#sk-container-id-2 div.sk-parallel {display: flex;align-items: stretch;justify-content: center;background-color: white;position: relative;}#sk-container-id-2 div.sk-item::before, #sk-container-id-2 div.sk-parallel-item::before {content: \"\";position: absolute;border-left: 1px solid gray;box-sizing: border-box;top: 0;bottom: 0;left: 50%;z-index: -1;}#sk-container-id-2 div.sk-parallel-item {display: flex;flex-direction: column;z-index: 1;position: relative;background-color: white;}#sk-container-id-2 div.sk-parallel-item:first-child::after {align-self: flex-end;width: 50%;}#sk-container-id-2 div.sk-parallel-item:last-child::after {align-self: flex-start;width: 50%;}#sk-container-id-2 div.sk-parallel-item:only-child::after {width: 0;}#sk-container-id-2 div.sk-dashed-wrapped {border: 1px dashed gray;margin: 0 0.4em 0.5em 0.4em;box-sizing: border-box;padding-bottom: 0.4em;background-color: white;}#sk-container-id-2 div.sk-label label {font-family: monospace;font-weight: bold;display: inline-block;line-height: 1.2em;}#sk-container-id-2 div.sk-label-container {text-align: center;}#sk-container-id-2 div.sk-container {/* jupyter's `normalize.less` sets `[hidden] { display: none; }` but bootstrap.min.css set `[hidden] { display: none !important; }` so we also need the `!important` here to be able to override the default hidden behavior on the sphinx rendered scikit-learn.org. See: https://github.com/scikit-learn/scikit-learn/issues/21755 */display: inline-block !important;position: relative;}#sk-container-id-2 div.sk-text-repr-fallback {display: none;}</style><div id=\"sk-container-id-2\" class=\"sk-top-container\"><div class=\"sk-text-repr-fallback\"><pre>RandomForestRegressor(random_state=42)</pre><b>In a Jupyter environment, please rerun this cell to show the HTML representation or trust the notebook. <br />On GitHub, the HTML representation is unable to render, please try loading this page with nbviewer.org.</b></div><div class=\"sk-container\" hidden><div class=\"sk-item\"><div class=\"sk-estimator sk-toggleable\"><input class=\"sk-toggleable__control sk-hidden--visually\" id=\"sk-estimator-id-2\" type=\"checkbox\" checked><label for=\"sk-estimator-id-2\" class=\"sk-toggleable__label sk-toggleable__label-arrow\">RandomForestRegressor</label><div class=\"sk-toggleable__content\"><pre>RandomForestRegressor(random_state=42)</pre></div></div></div></div></div>"
            ]
          },
          "metadata": {},
          "execution_count": 41
        }
      ]
    },
    {
      "cell_type": "code",
      "source": [
        "rf_y_pred = forest_regr.predict(X_train)\n",
        "forest_mse = mean_squared_error(y_train, rf_y_pred)\n",
        "forest_rmse = np.sqrt(forest_mse)\n",
        "print(forest_rmse)"
      ],
      "metadata": {
        "id": "MDZDH5cq4eOJ",
        "colab": {
          "base_uri": "https://localhost:8080/"
        },
        "outputId": "643d1741-ef95-47e4-f89d-ee48b15c6a08"
      },
      "execution_count": 42,
      "outputs": [
        {
          "output_type": "stream",
          "name": "stdout",
          "text": [
            "0.005420540647152916\n"
          ]
        }
      ]
    },
    {
      "cell_type": "markdown",
      "source": [
        "XGBoost"
      ],
      "metadata": {
        "id": "7XfJ079ApKI1"
      }
    },
    {
      "cell_type": "code",
      "source": [
        "import xgboost\n",
        "xg_regr = xgboost.XGBRegressor(seed = 42)\n",
        "xg_regr.fit(X_train, y_train)"
      ],
      "metadata": {
        "id": "EKjS537g4wfe",
        "colab": {
          "base_uri": "https://localhost:8080/",
          "height": 248
        },
        "outputId": "af789160-f504-4bdc-9a12-a9359d224350"
      },
      "execution_count": 45,
      "outputs": [
        {
          "output_type": "execute_result",
          "data": {
            "text/plain": [
              "XGBRegressor(base_score=None, booster=None, callbacks=None,\n",
              "             colsample_bylevel=None, colsample_bynode=None,\n",
              "             colsample_bytree=None, device=None, early_stopping_rounds=None,\n",
              "             enable_categorical=False, eval_metric=None, feature_types=None,\n",
              "             gamma=None, grow_policy=None, importance_type=None,\n",
              "             interaction_constraints=None, learning_rate=None, max_bin=None,\n",
              "             max_cat_threshold=None, max_cat_to_onehot=None,\n",
              "             max_delta_step=None, max_depth=None, max_leaves=None,\n",
              "             min_child_weight=None, missing=nan, monotone_constraints=None,\n",
              "             multi_strategy=None, n_estimators=None, n_jobs=None,\n",
              "             num_parallel_tree=None, random_state=None, ...)"
            ],
            "text/html": [
              "<style>#sk-container-id-3 {color: black;background-color: white;}#sk-container-id-3 pre{padding: 0;}#sk-container-id-3 div.sk-toggleable {background-color: white;}#sk-container-id-3 label.sk-toggleable__label {cursor: pointer;display: block;width: 100%;margin-bottom: 0;padding: 0.3em;box-sizing: border-box;text-align: center;}#sk-container-id-3 label.sk-toggleable__label-arrow:before {content: \"▸\";float: left;margin-right: 0.25em;color: #696969;}#sk-container-id-3 label.sk-toggleable__label-arrow:hover:before {color: black;}#sk-container-id-3 div.sk-estimator:hover label.sk-toggleable__label-arrow:before {color: black;}#sk-container-id-3 div.sk-toggleable__content {max-height: 0;max-width: 0;overflow: hidden;text-align: left;background-color: #f0f8ff;}#sk-container-id-3 div.sk-toggleable__content pre {margin: 0.2em;color: black;border-radius: 0.25em;background-color: #f0f8ff;}#sk-container-id-3 input.sk-toggleable__control:checked~div.sk-toggleable__content {max-height: 200px;max-width: 100%;overflow: auto;}#sk-container-id-3 input.sk-toggleable__control:checked~label.sk-toggleable__label-arrow:before {content: \"▾\";}#sk-container-id-3 div.sk-estimator input.sk-toggleable__control:checked~label.sk-toggleable__label {background-color: #d4ebff;}#sk-container-id-3 div.sk-label input.sk-toggleable__control:checked~label.sk-toggleable__label {background-color: #d4ebff;}#sk-container-id-3 input.sk-hidden--visually {border: 0;clip: rect(1px 1px 1px 1px);clip: rect(1px, 1px, 1px, 1px);height: 1px;margin: -1px;overflow: hidden;padding: 0;position: absolute;width: 1px;}#sk-container-id-3 div.sk-estimator {font-family: monospace;background-color: #f0f8ff;border: 1px dotted black;border-radius: 0.25em;box-sizing: border-box;margin-bottom: 0.5em;}#sk-container-id-3 div.sk-estimator:hover {background-color: #d4ebff;}#sk-container-id-3 div.sk-parallel-item::after {content: \"\";width: 100%;border-bottom: 1px solid gray;flex-grow: 1;}#sk-container-id-3 div.sk-label:hover label.sk-toggleable__label {background-color: #d4ebff;}#sk-container-id-3 div.sk-serial::before {content: \"\";position: absolute;border-left: 1px solid gray;box-sizing: border-box;top: 0;bottom: 0;left: 50%;z-index: 0;}#sk-container-id-3 div.sk-serial {display: flex;flex-direction: column;align-items: center;background-color: white;padding-right: 0.2em;padding-left: 0.2em;position: relative;}#sk-container-id-3 div.sk-item {position: relative;z-index: 1;}#sk-container-id-3 div.sk-parallel {display: flex;align-items: stretch;justify-content: center;background-color: white;position: relative;}#sk-container-id-3 div.sk-item::before, #sk-container-id-3 div.sk-parallel-item::before {content: \"\";position: absolute;border-left: 1px solid gray;box-sizing: border-box;top: 0;bottom: 0;left: 50%;z-index: -1;}#sk-container-id-3 div.sk-parallel-item {display: flex;flex-direction: column;z-index: 1;position: relative;background-color: white;}#sk-container-id-3 div.sk-parallel-item:first-child::after {align-self: flex-end;width: 50%;}#sk-container-id-3 div.sk-parallel-item:last-child::after {align-self: flex-start;width: 50%;}#sk-container-id-3 div.sk-parallel-item:only-child::after {width: 0;}#sk-container-id-3 div.sk-dashed-wrapped {border: 1px dashed gray;margin: 0 0.4em 0.5em 0.4em;box-sizing: border-box;padding-bottom: 0.4em;background-color: white;}#sk-container-id-3 div.sk-label label {font-family: monospace;font-weight: bold;display: inline-block;line-height: 1.2em;}#sk-container-id-3 div.sk-label-container {text-align: center;}#sk-container-id-3 div.sk-container {/* jupyter's `normalize.less` sets `[hidden] { display: none; }` but bootstrap.min.css set `[hidden] { display: none !important; }` so we also need the `!important` here to be able to override the default hidden behavior on the sphinx rendered scikit-learn.org. See: https://github.com/scikit-learn/scikit-learn/issues/21755 */display: inline-block !important;position: relative;}#sk-container-id-3 div.sk-text-repr-fallback {display: none;}</style><div id=\"sk-container-id-3\" class=\"sk-top-container\"><div class=\"sk-text-repr-fallback\"><pre>XGBRegressor(base_score=None, booster=None, callbacks=None,\n",
              "             colsample_bylevel=None, colsample_bynode=None,\n",
              "             colsample_bytree=None, device=None, early_stopping_rounds=None,\n",
              "             enable_categorical=False, eval_metric=None, feature_types=None,\n",
              "             gamma=None, grow_policy=None, importance_type=None,\n",
              "             interaction_constraints=None, learning_rate=None, max_bin=None,\n",
              "             max_cat_threshold=None, max_cat_to_onehot=None,\n",
              "             max_delta_step=None, max_depth=None, max_leaves=None,\n",
              "             min_child_weight=None, missing=nan, monotone_constraints=None,\n",
              "             multi_strategy=None, n_estimators=None, n_jobs=None,\n",
              "             num_parallel_tree=None, random_state=None, ...)</pre><b>In a Jupyter environment, please rerun this cell to show the HTML representation or trust the notebook. <br />On GitHub, the HTML representation is unable to render, please try loading this page with nbviewer.org.</b></div><div class=\"sk-container\" hidden><div class=\"sk-item\"><div class=\"sk-estimator sk-toggleable\"><input class=\"sk-toggleable__control sk-hidden--visually\" id=\"sk-estimator-id-3\" type=\"checkbox\" checked><label for=\"sk-estimator-id-3\" class=\"sk-toggleable__label sk-toggleable__label-arrow\">XGBRegressor</label><div class=\"sk-toggleable__content\"><pre>XGBRegressor(base_score=None, booster=None, callbacks=None,\n",
              "             colsample_bylevel=None, colsample_bynode=None,\n",
              "             colsample_bytree=None, device=None, early_stopping_rounds=None,\n",
              "             enable_categorical=False, eval_metric=None, feature_types=None,\n",
              "             gamma=None, grow_policy=None, importance_type=None,\n",
              "             interaction_constraints=None, learning_rate=None, max_bin=None,\n",
              "             max_cat_threshold=None, max_cat_to_onehot=None,\n",
              "             max_delta_step=None, max_depth=None, max_leaves=None,\n",
              "             min_child_weight=None, missing=nan, monotone_constraints=None,\n",
              "             multi_strategy=None, n_estimators=None, n_jobs=None,\n",
              "             num_parallel_tree=None, random_state=None, ...)</pre></div></div></div></div></div>"
            ]
          },
          "metadata": {},
          "execution_count": 45
        }
      ]
    },
    {
      "cell_type": "code",
      "source": [
        "xg_y_pred = xg_regr.predict(X_train)\n",
        "xg_mse = mean_squared_error(y_train, xg_y_pred)\n",
        "xg_rmse = np.sqrt(xg_mse)\n",
        "print(xg_rmse)"
      ],
      "metadata": {
        "id": "Kh8qxaLz73Im",
        "colab": {
          "base_uri": "https://localhost:8080/"
        },
        "outputId": "ae3d50e5-2bfb-411f-fb36-753b32a3e1cd"
      },
      "execution_count": 46,
      "outputs": [
        {
          "output_type": "stream",
          "name": "stdout",
          "text": [
            "0.028274160400586064\n"
          ]
        }
      ]
    },
    {
      "cell_type": "code",
      "source": [
        "from sklearn.model_selection import cross_val_score"
      ],
      "metadata": {
        "id": "7yh6E0ZsvnNn"
      },
      "execution_count": null,
      "outputs": []
    },
    {
      "cell_type": "markdown",
      "source": [
        "#Evaluation on test data"
      ],
      "metadata": {
        "id": "twF2BsrN8v1W"
      }
    },
    {
      "cell_type": "code",
      "source": [
        "lin_calcofi_pred = lin_regr.predict(X_test)\n",
        "lin_rmse_test = np.sqrt(mean_squared_error(y_test, lin_calcofi_pred))\n",
        "print('Multilinear Regression --> ', lin_rmse_test)"
      ],
      "metadata": {
        "id": "WP3flkaQ8y1i",
        "colab": {
          "base_uri": "https://localhost:8080/"
        },
        "outputId": "bfaa851d-f4d5-4868-f86e-5f87503411c4"
      },
      "execution_count": 43,
      "outputs": [
        {
          "output_type": "stream",
          "name": "stdout",
          "text": [
            "Linear Regression -->  0.749980093032928\n"
          ]
        }
      ]
    },
    {
      "cell_type": "markdown",
      "source": [
        "Do not execute, SVM is not used here"
      ],
      "metadata": {
        "id": "sRxh84-2spdd"
      }
    },
    {
      "cell_type": "code",
      "source": [
        "calcofi_pred = svm_regr.predict(X_test)\n",
        "svm_lin_rmse_test = np.sqrt(mean_squared_error(y_test, calcofi_pred))\n",
        "print('SVM Linear Regression --> ', svm_lin_rmse_test)"
      ],
      "metadata": {
        "id": "B3DY_wDD9E6_"
      },
      "execution_count": null,
      "outputs": []
    },
    {
      "cell_type": "code",
      "source": [
        "rf_calcofi_pred = forest_regr.predict(X_test)\n",
        "forest_rmse_test = np.sqrt(mean_squared_error(y_test, rf_calcofi_pred))\n",
        "print('Random Forest Regressor --> ', forest_rmse_test)"
      ],
      "metadata": {
        "id": "dpcNQXVC9ey4",
        "colab": {
          "base_uri": "https://localhost:8080/"
        },
        "outputId": "59fb0407-a529-46f2-dd4c-1e9525e698d5"
      },
      "execution_count": 44,
      "outputs": [
        {
          "output_type": "stream",
          "name": "stdout",
          "text": [
            "Random Forest Regressor -->  0.018280297463836737\n"
          ]
        }
      ]
    },
    {
      "cell_type": "code",
      "source": [
        "xg_calcofi_pred = xg_regr.predict(X_test)\n",
        "xg_rmse_test = np.sqrt(mean_squared_error(y_test, xg_calcofi_pred))\n",
        "print('XGBoost --> ', xg_rmse_test)"
      ],
      "metadata": {
        "id": "y6t0H5bN9gv_",
        "colab": {
          "base_uri": "https://localhost:8080/"
        },
        "outputId": "e11ee1aa-b973-4e36-8554-292e5f0016ce"
      },
      "execution_count": 47,
      "outputs": [
        {
          "output_type": "stream",
          "name": "stdout",
          "text": [
            "XGBoost -->  0.034374131708068835\n"
          ]
        }
      ]
    },
    {
      "cell_type": "markdown",
      "source": [
        "#Artificial Neural Network - Multilayer perceptron"
      ],
      "metadata": {
        "id": "Ja9ee4dtA_Gg"
      }
    },
    {
      "cell_type": "markdown",
      "source": [],
      "metadata": {
        "id": "xTRwF8_fpJCY"
      }
    },
    {
      "cell_type": "code",
      "source": [
        "# Python ≥3.5 is required\n",
        "import sys\n",
        "assert sys.version_info >= (3, 5)\n",
        "\n",
        "# Scikit-Learn ≥0.20 is required\n",
        "import sklearn\n",
        "assert sklearn.__version__ >= \"0.20\"\n",
        "\n",
        "try:\n",
        "    # %tensorflow_version only exists in Colab.\n",
        "    %tensorflow_version 2.x\n",
        "except Exception:\n",
        "    pass\n",
        "\n",
        "# TensorFlow ≥2.0 is required\n",
        "import tensorflow as tf\n",
        "assert tf.__version__ >= \"2.0\"\n",
        "\n",
        "# Common imports\n",
        "import numpy as np\n",
        "import os\n",
        "import pandas as pd\n",
        "\n",
        "# to make this notebook's output stable across runs\n",
        "np.random.seed(42)\n",
        "\n",
        "# To plot pretty figures\n",
        "%matplotlib inline\n",
        "import matplotlib as mpl\n",
        "import matplotlib.pyplot as plt\n",
        "mpl.rc('axes', labelsize=14)\n",
        "mpl.rc('xtick', labelsize=12)\n",
        "mpl.rc('ytick', labelsize=12)\n",
        "\n",
        "# Ignore useless warnings (see SciPy issue #5998)\n",
        "import warnings\n",
        "warnings.filterwarnings(action=\"ignore\", message=\"^internal gelsd\")"
      ],
      "metadata": {
        "id": "ls-BLZi8A-dI",
        "colab": {
          "base_uri": "https://localhost:8080/"
        },
        "outputId": "8fb948b6-cbf5-4d64-ca0d-a8eb241c18a8"
      },
      "execution_count": 48,
      "outputs": [
        {
          "output_type": "stream",
          "name": "stdout",
          "text": [
            "Colab only includes TensorFlow 2.x; %tensorflow_version has no effect.\n"
          ]
        }
      ]
    },
    {
      "cell_type": "code",
      "source": [
        "import tensorflow as tf\n",
        "from tensorflow import keras"
      ],
      "metadata": {
        "id": "mI5A6RzBCpuP"
      },
      "execution_count": 61,
      "outputs": []
    },
    {
      "cell_type": "code",
      "source": [
        "from sklearn.metrics import mean_squared_error\n",
        "from sklearn.model_selection import train_test_split"
      ],
      "metadata": {
        "id": "Evqdof6KCuqG"
      },
      "execution_count": 62,
      "outputs": []
    },
    {
      "cell_type": "markdown",
      "source": [
        "Split"
      ],
      "metadata": {
        "id": "s4HIj46ITmSJ"
      }
    },
    {
      "cell_type": "code",
      "source": [
        "from sklearn.model_selection import train_test_split\n",
        "train_orig_set, test_orig_set = train_test_split(dataset, test_size=0.2)\n",
        "print(train_orig_set.shape)\n",
        "print(test_orig_set.shape)"
      ],
      "metadata": {
        "colab": {
          "base_uri": "https://localhost:8080/"
        },
        "id": "CJIPAvGytRkg",
        "outputId": "494841a1-8f12-4a5d-b4cf-ca36193fbf40"
      },
      "execution_count": 49,
      "outputs": [
        {
          "output_type": "stream",
          "name": "stdout",
          "text": [
            "(691890, 74)\n",
            "(172973, 74)\n"
          ]
        }
      ]
    },
    {
      "cell_type": "code",
      "source": [
        "train_set = train_orig_set.loc[~train_orig_set['Salnty'].isna()]\n",
        "print(train_set.shape)\n",
        "\n",
        "test_set = test_orig_set.loc[~test_orig_set['Salnty'].isna()]\n",
        "print(test_set.shape)"
      ],
      "metadata": {
        "colab": {
          "base_uri": "https://localhost:8080/"
        },
        "id": "5ChnN2LMtZp1",
        "outputId": "fb09fbf2-2524-4df1-cfdd-50c95dcf6b00"
      },
      "execution_count": 50,
      "outputs": [
        {
          "output_type": "stream",
          "name": "stdout",
          "text": [
            "(654130, 74)\n",
            "(163379, 74)\n"
          ]
        }
      ]
    },
    {
      "cell_type": "code",
      "source": [
        "X_train_full = train_set.drop(['Salnty', 'R_SALINITY','S_prec','S_qual'], axis=1)\n",
        "X_train_full = X_train_full.drop(cat_attributes, axis=1)\n",
        "X_train_full.columns"
      ],
      "metadata": {
        "colab": {
          "base_uri": "https://localhost:8080/"
        },
        "id": "dlFnylPKtdRV",
        "outputId": "bf58be48-c57c-4574-cb31-4ae9aff913d7"
      },
      "execution_count": 51,
      "outputs": [
        {
          "output_type": "execute_result",
          "data": {
            "text/plain": [
              "Index(['Depthm', 'T_degC', 'O2ml_L', 'STheta', 'O2Sat', 'Oxy_µmol/Kg',\n",
              "       'BtlNum', 'RecInd', 'T_prec', 'T_qual', 'P_qual', 'O_qual', 'SThtaq',\n",
              "       'O2Satq', 'ChlorA', 'Chlqua', 'Phaeop', 'Phaqua', 'PO4uM', 'PO4q',\n",
              "       'SiO3uM', 'SiO3qu', 'NO2uM', 'NO2q', 'NO3uM', 'NO3q', 'NH3uM', 'NH3q',\n",
              "       'C14As1', 'C14A1p', 'C14A1q', 'C14As2', 'C14A2p', 'C14A2q', 'DarkAs',\n",
              "       'DarkAp', 'DarkAq', 'MeanAs', 'MeanAp', 'MeanAq', 'LightP', 'R_Depth',\n",
              "       'R_TEMP', 'R_POTEMP', 'R_SIGMA', 'R_SVA', 'R_DYNHT', 'R_O2', 'R_O2Sat',\n",
              "       'R_SIO3', 'R_PO4', 'R_NO3', 'R_NO2', 'R_NH4', 'R_CHLA', 'R_PHAEO',\n",
              "       'R_PRES', 'R_SAMP', 'DIC1', 'DIC2', 'TA1', 'TA2', 'pH2', 'pH1'],\n",
              "      dtype='object')"
            ]
          },
          "metadata": {},
          "execution_count": 51
        }
      ]
    },
    {
      "cell_type": "code",
      "source": [
        "y_train_full = train_set['Salnty'].copy()"
      ],
      "metadata": {
        "id": "_kjS4iWctnAH"
      },
      "execution_count": 52,
      "outputs": []
    },
    {
      "cell_type": "code",
      "source": [
        "X_test = test_set.drop(['Salnty', 'R_SALINITY','S_prec','S_qual'], axis=1)\n",
        "X_test = X_test.drop(cat_attributes, axis=1)\n",
        "y_test = test_set['Salnty'].copy()\n",
        "X_test.columns"
      ],
      "metadata": {
        "colab": {
          "base_uri": "https://localhost:8080/"
        },
        "id": "z2q2cCyptpNl",
        "outputId": "3e439142-82c1-49e5-f78f-b8113ce26ef4"
      },
      "execution_count": 53,
      "outputs": [
        {
          "output_type": "execute_result",
          "data": {
            "text/plain": [
              "Index(['Depthm', 'T_degC', 'O2ml_L', 'STheta', 'O2Sat', 'Oxy_µmol/Kg',\n",
              "       'BtlNum', 'RecInd', 'T_prec', 'T_qual', 'P_qual', 'O_qual', 'SThtaq',\n",
              "       'O2Satq', 'ChlorA', 'Chlqua', 'Phaeop', 'Phaqua', 'PO4uM', 'PO4q',\n",
              "       'SiO3uM', 'SiO3qu', 'NO2uM', 'NO2q', 'NO3uM', 'NO3q', 'NH3uM', 'NH3q',\n",
              "       'C14As1', 'C14A1p', 'C14A1q', 'C14As2', 'C14A2p', 'C14A2q', 'DarkAs',\n",
              "       'DarkAp', 'DarkAq', 'MeanAs', 'MeanAp', 'MeanAq', 'LightP', 'R_Depth',\n",
              "       'R_TEMP', 'R_POTEMP', 'R_SIGMA', 'R_SVA', 'R_DYNHT', 'R_O2', 'R_O2Sat',\n",
              "       'R_SIO3', 'R_PO4', 'R_NO3', 'R_NO2', 'R_NH4', 'R_CHLA', 'R_PHAEO',\n",
              "       'R_PRES', 'R_SAMP', 'DIC1', 'DIC2', 'TA1', 'TA2', 'pH2', 'pH1'],\n",
              "      dtype='object')"
            ]
          },
          "metadata": {},
          "execution_count": 53
        }
      ]
    },
    {
      "cell_type": "code",
      "source": [
        "print(X_train_full.shape, X_test.shape, y_train_full.shape, y_test.shape)"
      ],
      "metadata": {
        "colab": {
          "base_uri": "https://localhost:8080/"
        },
        "id": "aXCYf9LEuDn1",
        "outputId": "7c6b5c54-123d-4e4d-8c20-21cabbc1572a"
      },
      "execution_count": 54,
      "outputs": [
        {
          "output_type": "stream",
          "name": "stdout",
          "text": [
            "(654130, 64) (163379, 64) (654130,) (163379,)\n"
          ]
        }
      ]
    },
    {
      "cell_type": "markdown",
      "source": [
        "Numerical attributes, fill with median values"
      ],
      "metadata": {
        "id": "x60UFHbCuVye"
      }
    },
    {
      "cell_type": "code",
      "source": [
        "from sklearn.impute import SimpleImputer\n",
        "from sklearn.preprocessing import StandardScaler\n",
        "from sklearn.pipeline import Pipeline"
      ],
      "metadata": {
        "id": "df1NVoNsuYLO"
      },
      "execution_count": null,
      "outputs": []
    },
    {
      "cell_type": "code",
      "source": [
        "num_pipeline = Pipeline([\n",
        "    ('imputer', SimpleImputer(strategy='median')),\n",
        "    ('std_scaler', StandardScaler())\n",
        "])"
      ],
      "metadata": {
        "id": "jspzr4jtubUy"
      },
      "execution_count": null,
      "outputs": []
    },
    {
      "cell_type": "code",
      "source": [
        "X_train_full = num_pipeline.fit_transform(X_train_full)"
      ],
      "metadata": {
        "id": "H0Qjc5COuezj"
      },
      "execution_count": 55,
      "outputs": []
    },
    {
      "cell_type": "markdown",
      "source": [],
      "metadata": {
        "id": "0Oa4objXus1Y"
      }
    },
    {
      "cell_type": "code",
      "source": [
        "print(X_train_full.shape, X_test.shape, y_train_full.shape, y_test.shape)"
      ],
      "metadata": {
        "colab": {
          "base_uri": "https://localhost:8080/"
        },
        "id": "XVTPw1MVukQx",
        "outputId": "d0d73760-3a6c-4df6-c0d2-e0d77af5276a"
      },
      "execution_count": 56,
      "outputs": [
        {
          "output_type": "stream",
          "name": "stdout",
          "text": [
            "(654130, 64) (163379, 64) (654130,) (163379,)\n"
          ]
        }
      ]
    },
    {
      "cell_type": "code",
      "source": [
        "X_train, X_valid = X_train_full[5000:], X_train_full[:5000]\n",
        "y_train, y_valid = y_train_full[5000:], y_train_full[:5000]"
      ],
      "metadata": {
        "id": "1YCClbZiun6Q"
      },
      "execution_count": 57,
      "outputs": []
    },
    {
      "cell_type": "code",
      "source": [
        "print(X_train.shape, X_valid.shape, y_train.shape, y_valid.shape)"
      ],
      "metadata": {
        "id": "YCjKRwUuTleF",
        "colab": {
          "base_uri": "https://localhost:8080/"
        },
        "outputId": "39d7bdc3-b05f-492b-b007-fa15c78948d2"
      },
      "execution_count": 58,
      "outputs": [
        {
          "output_type": "stream",
          "name": "stdout",
          "text": [
            "(649130, 64) (5000, 64) (649130,) (5000,)\n"
          ]
        }
      ]
    },
    {
      "cell_type": "markdown",
      "source": [
        "Model"
      ],
      "metadata": {
        "id": "toGyEs9duveW"
      }
    },
    {
      "cell_type": "code",
      "source": [
        "n_features = X_train.shape[1]\n",
        "print(n_features)"
      ],
      "metadata": {
        "colab": {
          "base_uri": "https://localhost:8080/"
        },
        "id": "2zX1BEUmuwq9",
        "outputId": "6013d839-bcca-484b-873f-54b3775650c6"
      },
      "execution_count": 59,
      "outputs": [
        {
          "output_type": "stream",
          "name": "stdout",
          "text": [
            "64\n"
          ]
        }
      ]
    },
    {
      "cell_type": "code",
      "source": [
        "model = keras.models.Sequential()\n",
        "model.add(keras.Input(shape=(n_features,)))\n",
        "model.add(keras.layers.Dense(10, activation='relu', kernel_initializer='he_normal'))\n",
        "model.add(keras.layers.Dense(8, activation='relu', kernel_initializer='he_normal'))\n",
        "model.add(keras.layers.Dense(1, activation='relu'))"
      ],
      "metadata": {
        "id": "pjc2EdIQvLer"
      },
      "execution_count": 68,
      "outputs": []
    },
    {
      "cell_type": "code",
      "source": [
        "model.summary()"
      ],
      "metadata": {
        "colab": {
          "base_uri": "https://localhost:8080/"
        },
        "id": "cH6Vz7rHvQsf",
        "outputId": "f1704ffa-f566-471b-f70f-cb5c6040f215"
      },
      "execution_count": 69,
      "outputs": [
        {
          "output_type": "stream",
          "name": "stdout",
          "text": [
            "Model: \"sequential_1\"\n",
            "_________________________________________________________________\n",
            " Layer (type)                Output Shape              Param #   \n",
            "=================================================================\n",
            " dense_3 (Dense)             (None, 10)                650       \n",
            "                                                                 \n",
            " dense_4 (Dense)             (None, 8)                 88        \n",
            "                                                                 \n",
            " dense_5 (Dense)             (None, 1)                 9         \n",
            "                                                                 \n",
            "=================================================================\n",
            "Total params: 747 (2.92 KB)\n",
            "Trainable params: 747 (2.92 KB)\n",
            "Non-trainable params: 0 (0.00 Byte)\n",
            "_________________________________________________________________\n"
          ]
        }
      ]
    },
    {
      "cell_type": "code",
      "source": [
        "keras.utils.plot_model(model, 'model.png', show_shapes=True)"
      ],
      "metadata": {
        "colab": {
          "base_uri": "https://localhost:8080/",
          "height": 422
        },
        "id": "6wLN2iOTvwKD",
        "outputId": "7d553c7f-fc22-47c5-863a-02d8017a5a24"
      },
      "execution_count": 70,
      "outputs": [
        {
          "output_type": "execute_result",
          "data": {
            "image/png": "[encoded data removed]",
            "text/plain": [
              "<IPython.core.display.Image object>"
            ]
          },
          "metadata": {},
          "execution_count": 70
        }
      ]
    },
    {
      "cell_type": "markdown",
      "source": [
        "Compile the model"
      ],
      "metadata": {
        "id": "-Bzo9WKNvh97"
      }
    },
    {
      "cell_type": "code",
      "source": [
        "model.compile(optimizer='adam', loss='mse')"
      ],
      "metadata": {
        "id": "SVQY-Hk5vmp8"
      },
      "execution_count": 71,
      "outputs": []
    },
    {
      "cell_type": "markdown",
      "source": [
        "Learn the model"
      ],
      "metadata": {
        "id": "cvCcqt2Vv0J8"
      }
    },
    {
      "cell_type": "code",
      "source": [
        "history = model.fit(X_train, y_train, epochs=50, batch_size=32, validation_data=(X_valid, y_valid))"
      ],
      "metadata": {
        "colab": {
          "base_uri": "https://localhost:8080/"
        },
        "id": "wlWiuGEZvzlu",
        "outputId": "a766ce06-8b03-4571-8ebc-bb3929e50acd"
      },
      "execution_count": 72,
      "outputs": [
        {
          "output_type": "stream",
          "name": "stdout",
          "text": [
            "Epoch 1/50\n",
            "20286/20286 [==============================] - 43s 2ms/step - loss: 106.2612 - val_loss: 0.6450\n",
            "Epoch 2/50\n",
            "20286/20286 [==============================] - 38s 2ms/step - loss: 20.5392 - val_loss: 0.3629\n",
            "Epoch 3/50\n",
            "20286/20286 [==============================] - 40s 2ms/step - loss: 1.8129 - val_loss: 0.1256\n",
            "Epoch 4/50\n",
            "20286/20286 [==============================] - 41s 2ms/step - loss: 0.1344 - val_loss: 0.0321\n",
            "Epoch 5/50\n",
            "20286/20286 [==============================] - 43s 2ms/step - loss: 0.0933 - val_loss: 0.0216\n",
            "Epoch 6/50\n",
            "20286/20286 [==============================] - 43s 2ms/step - loss: 0.1311 - val_loss: 0.0181\n",
            "Epoch 7/50\n",
            "20286/20286 [==============================] - 45s 2ms/step - loss: 0.0569 - val_loss: 0.0113\n",
            "Epoch 8/50\n",
            "20286/20286 [==============================] - 42s 2ms/step - loss: 0.0528 - val_loss: 0.0137\n",
            "Epoch 9/50\n",
            "20286/20286 [==============================] - 40s 2ms/step - loss: 0.0503 - val_loss: 0.0083\n",
            "Epoch 10/50\n",
            "20286/20286 [==============================] - 39s 2ms/step - loss: 0.0424 - val_loss: 0.0048\n",
            "Epoch 11/50\n",
            "20286/20286 [==============================] - 41s 2ms/step - loss: 0.0838 - val_loss: 0.0071\n",
            "Epoch 12/50\n",
            "20286/20286 [==============================] - 40s 2ms/step - loss: 0.0684 - val_loss: 0.0098\n",
            "Epoch 13/50\n",
            "20286/20286 [==============================] - 40s 2ms/step - loss: 0.0921 - val_loss: 0.0036\n",
            "Epoch 14/50\n",
            "20286/20286 [==============================] - 37s 2ms/step - loss: 0.0721 - val_loss: 0.0031\n",
            "Epoch 15/50\n",
            "20286/20286 [==============================] - 39s 2ms/step - loss: 0.0315 - val_loss: 0.0090\n",
            "Epoch 16/50\n",
            "20286/20286 [==============================] - 39s 2ms/step - loss: 0.0519 - val_loss: 0.0073\n",
            "Epoch 17/50\n",
            "20286/20286 [==============================] - 37s 2ms/step - loss: 0.0625 - val_loss: 0.0061\n",
            "Epoch 18/50\n",
            "20286/20286 [==============================] - 39s 2ms/step - loss: 0.0394 - val_loss: 0.0033\n",
            "Epoch 19/50\n",
            "20286/20286 [==============================] - 42s 2ms/step - loss: 0.0341 - val_loss: 0.0038\n",
            "Epoch 20/50\n",
            "20286/20286 [==============================] - 39s 2ms/step - loss: 0.0623 - val_loss: 0.0070\n",
            "Epoch 21/50\n",
            "20286/20286 [==============================] - 39s 2ms/step - loss: 0.0483 - val_loss: 0.0086\n",
            "Epoch 22/50\n",
            "20286/20286 [==============================] - 39s 2ms/step - loss: 0.0430 - val_loss: 0.0056\n",
            "Epoch 23/50\n",
            "20286/20286 [==============================] - 39s 2ms/step - loss: 0.0332 - val_loss: 0.0152\n",
            "Epoch 24/50\n",
            "20286/20286 [==============================] - 41s 2ms/step - loss: 0.0388 - val_loss: 0.0029\n",
            "Epoch 25/50\n",
            "20286/20286 [==============================] - 41s 2ms/step - loss: 0.0297 - val_loss: 0.0039\n",
            "Epoch 26/50\n",
            "20286/20286 [==============================] - 41s 2ms/step - loss: 0.0382 - val_loss: 0.0051\n",
            "Epoch 27/50\n",
            "20286/20286 [==============================] - 42s 2ms/step - loss: 0.0320 - val_loss: 0.0051\n",
            "Epoch 28/50\n",
            "20286/20286 [==============================] - 41s 2ms/step - loss: 0.0286 - val_loss: 0.0028\n",
            "Epoch 29/50\n",
            "20286/20286 [==============================] - 46s 2ms/step - loss: 0.0472 - val_loss: 0.0051\n",
            "Epoch 30/50\n",
            "20286/20286 [==============================] - 44s 2ms/step - loss: 0.0601 - val_loss: 0.0041\n",
            "Epoch 31/50\n",
            "20286/20286 [==============================] - 43s 2ms/step - loss: 0.0271 - val_loss: 0.0033\n",
            "Epoch 32/50\n",
            "20286/20286 [==============================] - 41s 2ms/step - loss: 0.0286 - val_loss: 0.0047\n",
            "Epoch 33/50\n",
            "20286/20286 [==============================] - 40s 2ms/step - loss: 0.0328 - val_loss: 0.0031\n",
            "Epoch 34/50\n",
            "20286/20286 [==============================] - 41s 2ms/step - loss: 0.0443 - val_loss: 0.0045\n",
            "Epoch 35/50\n",
            "20286/20286 [==============================] - 40s 2ms/step - loss: 0.0435 - val_loss: 0.0014\n",
            "Epoch 36/50\n",
            "20286/20286 [==============================] - 40s 2ms/step - loss: 1.0104 - val_loss: 0.0061\n",
            "Epoch 37/50\n",
            "20286/20286 [==============================] - 39s 2ms/step - loss: 0.0392 - val_loss: 0.0026\n",
            "Epoch 38/50\n",
            "20286/20286 [==============================] - 41s 2ms/step - loss: 0.0806 - val_loss: 0.0027\n",
            "Epoch 39/50\n",
            "20286/20286 [==============================] - 42s 2ms/step - loss: 0.0321 - val_loss: 0.0045\n",
            "Epoch 40/50\n",
            "20286/20286 [==============================] - 42s 2ms/step - loss: 0.0296 - val_loss: 0.0224\n",
            "Epoch 41/50\n",
            "20286/20286 [==============================] - 41s 2ms/step - loss: 0.0275 - val_loss: 0.0016\n",
            "Epoch 42/50\n",
            "20286/20286 [==============================] - 43s 2ms/step - loss: 0.0268 - val_loss: 0.0024\n",
            "Epoch 43/50\n",
            "20286/20286 [==============================] - 42s 2ms/step - loss: 0.0345 - val_loss: 0.0011\n",
            "Epoch 44/50\n",
            "20286/20286 [==============================] - 42s 2ms/step - loss: 0.0288 - val_loss: 0.0021\n",
            "Epoch 45/50\n",
            "20286/20286 [==============================] - 40s 2ms/step - loss: 0.0274 - val_loss: 0.0011\n",
            "Epoch 46/50\n",
            "20286/20286 [==============================] - 42s 2ms/step - loss: 0.0285 - val_loss: 0.0013\n",
            "Epoch 47/50\n",
            "20286/20286 [==============================] - 41s 2ms/step - loss: 0.0484 - val_loss: 0.0024\n",
            "Epoch 48/50\n",
            "20286/20286 [==============================] - 44s 2ms/step - loss: 0.0252 - val_loss: 0.0013\n",
            "Epoch 49/50\n",
            "20286/20286 [==============================] - 37s 2ms/step - loss: 0.0287 - val_loss: 9.2554e-04\n",
            "Epoch 50/50\n",
            "20286/20286 [==============================] - 42s 2ms/step - loss: 0.0247 - val_loss: 9.8774e-04\n"
          ]
        }
      ]
    },
    {
      "cell_type": "code",
      "source": [
        "from matplotlib import pyplot as plt\n",
        "plt.title('Learning Curves')\n",
        "plt.xlabel('Epoch')\n",
        "plt.ylabel('RMSE')\n",
        "plt.plot(history.history['loss'], label='train')\n",
        "plt.plot(history.history['val_loss'], label='val')\n",
        "plt.legend()\n",
        "plt.show()"
      ],
      "metadata": {
        "colab": {
          "base_uri": "https://localhost:8080/",
          "height": 481
        },
        "id": "I8VTrYT9wsjQ",
        "outputId": "68f7953f-3e98-410a-844c-717c86c88e54"
      },
      "execution_count": 73,
      "outputs": [
        {
          "output_type": "display_data",
          "data": {
            "text/plain": [
              "<Figure size 640x480 with 1 Axes>"
            ],
            "image/png": "[encoded data removed]"
          },
          "metadata": {}
        }
      ]
    },
    {
      "cell_type": "markdown",
      "source": [
        "#Evaluate the model"
      ],
      "metadata": {
        "id": "1h43dwRmv6sD"
      }
    },
    {
      "cell_type": "code",
      "source": [
        "X_test = test_set.drop(['Salnty', 'R_SALINITY','S_prec','S_qual'], axis=1)\n",
        "X_test = X_test.drop(cat_attributes, axis=1)\n",
        "y_test = test_set['Salnty'].copy()\n",
        "X_test.columns"
      ],
      "metadata": {
        "colab": {
          "base_uri": "https://localhost:8080/"
        },
        "id": "Yvvj1ftmv9iC",
        "outputId": "efa48396-2735-494e-c577-fed7c9d3422e"
      },
      "execution_count": 74,
      "outputs": [
        {
          "output_type": "execute_result",
          "data": {
            "text/plain": [
              "Index(['Depthm', 'T_degC', 'O2ml_L', 'STheta', 'O2Sat', 'Oxy_µmol/Kg',\n",
              "       'BtlNum', 'RecInd', 'T_prec', 'T_qual', 'P_qual', 'O_qual', 'SThtaq',\n",
              "       'O2Satq', 'ChlorA', 'Chlqua', 'Phaeop', 'Phaqua', 'PO4uM', 'PO4q',\n",
              "       'SiO3uM', 'SiO3qu', 'NO2uM', 'NO2q', 'NO3uM', 'NO3q', 'NH3uM', 'NH3q',\n",
              "       'C14As1', 'C14A1p', 'C14A1q', 'C14As2', 'C14A2p', 'C14A2q', 'DarkAs',\n",
              "       'DarkAp', 'DarkAq', 'MeanAs', 'MeanAp', 'MeanAq', 'LightP', 'R_Depth',\n",
              "       'R_TEMP', 'R_POTEMP', 'R_SIGMA', 'R_SVA', 'R_DYNHT', 'R_O2', 'R_O2Sat',\n",
              "       'R_SIO3', 'R_PO4', 'R_NO3', 'R_NO2', 'R_NH4', 'R_CHLA', 'R_PHAEO',\n",
              "       'R_PRES', 'R_SAMP', 'DIC1', 'DIC2', 'TA1', 'TA2', 'pH2', 'pH1'],\n",
              "      dtype='object')"
            ]
          },
          "metadata": {},
          "execution_count": 74
        }
      ]
    },
    {
      "cell_type": "code",
      "source": [
        "X_test = num_pipeline.transform(X_test)"
      ],
      "metadata": {
        "id": "MHM4N8wxQQ-w"
      },
      "execution_count": 79,
      "outputs": []
    },
    {
      "cell_type": "markdown",
      "source": [
        "X_test = num_pipeline.transform(X_test)"
      ],
      "metadata": {
        "id": "cOAWY7vxwEAc"
      }
    },
    {
      "cell_type": "code",
      "source": [
        "loss= model.evaluate(X_test, y_test)"
      ],
      "metadata": {
        "colab": {
          "base_uri": "https://localhost:8080/"
        },
        "id": "8FnXV8XvwEvb",
        "outputId": "1ad8d7c4-bbe5-49d5-f8a9-d0a76d7e700c"
      },
      "execution_count": 80,
      "outputs": [
        {
          "output_type": "stream",
          "name": "stdout",
          "text": [
            "5106/5106 [==============================] - 9s 2ms/step - loss: 0.0094\n"
          ]
        }
      ]
    },
    {
      "cell_type": "code",
      "source": [
        "print('Test loss', loss)"
      ],
      "metadata": {
        "colab": {
          "base_uri": "https://localhost:8080/"
        },
        "id": "LBURb2NdwdPN",
        "outputId": "9de1a0d5-8487-452b-c6e7-3671bce52b37"
      },
      "execution_count": 76,
      "outputs": [
        {
          "output_type": "stream",
          "name": "stdout",
          "text": [
            "Test loss nan\n"
          ]
        }
      ]
    },
    {
      "cell_type": "code",
      "source": [
        "mlp_rmse_test = np.sqrt(loss)\n",
        "print('Multilayer Perceptron Regression --> ', mlp_rmse_test)"
      ],
      "metadata": {
        "colab": {
          "base_uri": "https://localhost:8080/"
        },
        "id": "JiDLJlQlw0Dc",
        "outputId": "e41f1dca-7535-4b06-919f-2d59e38e163c"
      },
      "execution_count": 81,
      "outputs": [
        {
          "output_type": "stream",
          "name": "stdout",
          "text": [
            "Multilayer Perceptron Regression -->  0.09719741796747773\n"
          ]
        }
      ]
    },
    {
      "cell_type": "code",
      "source": [
        "y_pred = model.predict(X_test)\n",
        "#lin_mse = mean_squared_error(y_test, calcofi_pred)\n",
        "mlp_rmse_test = np.sqrt(mean_squared_error(y_test, y_pred))\n",
        "print('Multilayer Perceptron Regression --> ', mlp_rmse_test)"
      ],
      "metadata": {
        "colab": {
          "base_uri": "https://localhost:8080/"
        },
        "id": "fVpte9eiw9Vz",
        "outputId": "bb7fdfe3-4318-4a08-af49-d0b400e59b2c"
      },
      "execution_count": 82,
      "outputs": [
        {
          "output_type": "stream",
          "name": "stdout",
          "text": [
            "5106/5106 [==============================] - 9s 2ms/step\n",
            "Multilayer Perceptron Regression -->  0.09719744499291574\n"
          ]
        }
      ]
    }
  ]
}